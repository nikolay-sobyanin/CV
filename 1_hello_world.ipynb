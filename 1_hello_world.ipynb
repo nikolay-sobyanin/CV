{
  "nbformat": 4,
  "nbformat_minor": 0,
  "metadata": {
    "colab": {
      "provenance": [],
      "authorship_tag": "ABX9TyPCmTddej1aHQRy7LVB0PEA"
    },
    "kernelspec": {
      "name": "python3",
      "display_name": "Python 3"
    },
    "language_info": {
      "name": "python"
    }
  },
  "cells": [
    {
      "cell_type": "code",
      "execution_count": 66,
      "metadata": {
        "id": "VCtoDosmsx8a"
      },
      "outputs": [],
      "source": [
        "import tensorflow as tf\n",
        "import numpy as np\n",
        "import matplotlib.pyplot as plt"
      ]
    },
    {
      "cell_type": "code",
      "source": [
        "print('Version TensorFlow: ', tf.__version__)"
      ],
      "metadata": {
        "colab": {
          "base_uri": "https://localhost:8080/"
        },
        "id": "fBqjbnKJs4ZO",
        "outputId": "11f1b265-a071-4ccc-99e8-dd71fb9f4ba5"
      },
      "execution_count": 26,
      "outputs": [
        {
          "output_type": "stream",
          "name": "stdout",
          "text": [
            "Version TensorFlow:  2.11.0\n"
          ]
        }
      ]
    },
    {
      "cell_type": "markdown",
      "source": [
        "# Загрузка датасета"
      ],
      "metadata": {
        "id": "vhlPocaGuIxq"
      }
    },
    {
      "cell_type": "code",
      "source": [
        "mnist = tf.keras.datasets.mnist"
      ],
      "metadata": {
        "id": "yVAdtv30tCKl"
      },
      "execution_count": 27,
      "outputs": []
    },
    {
      "cell_type": "code",
      "source": [
        "(X_train, y_train), (X_test, y_test) = mnist.load_data()"
      ],
      "metadata": {
        "id": "lBAsurUVtPcr"
      },
      "execution_count": 28,
      "outputs": []
    },
    {
      "cell_type": "code",
      "source": [
        "X_train.shape, X_test.shape"
      ],
      "metadata": {
        "colab": {
          "base_uri": "https://localhost:8080/"
        },
        "id": "ik9K5BBRth3_",
        "outputId": "b3ed9a59-ac62-4a78-9b67-fcf7a4b47560"
      },
      "execution_count": 29,
      "outputs": [
        {
          "output_type": "execute_result",
          "data": {
            "text/plain": [
              "((60000, 28, 28), (10000, 28, 28))"
            ]
          },
          "metadata": {},
          "execution_count": 29
        }
      ]
    },
    {
      "cell_type": "code",
      "source": [
        "img = X_train[0]\n",
        "plt.imshow(img);"
      ],
      "metadata": {
        "colab": {
          "base_uri": "https://localhost:8080/",
          "height": 265
        },
        "id": "lquxJA8b4m6Z",
        "outputId": "97c71da4-77d0-4607-84e8-677a80da5121"
      },
      "execution_count": 71,
      "outputs": [
        {
          "output_type": "display_data",
          "data": {
            "text/plain": [
              "<Figure size 432x288 with 1 Axes>"
            ],
            "image/png": "[encoded data removed]"
          },
          "metadata": {
            "needs_background": "light"
          }
        }
      ]
    },
    {
      "cell_type": "markdown",
      "source": [
        "# Нормализация простейшая"
      ],
      "metadata": {
        "id": "xDDu9Zs0uOFQ"
      }
    },
    {
      "cell_type": "code",
      "source": [
        "X_train, X_test = X_train / 255., X_test / 255."
      ],
      "metadata": {
        "id": "SIqzdLCQtmUF"
      },
      "execution_count": 30,
      "outputs": []
    },
    {
      "cell_type": "markdown",
      "source": [
        "# Создание модели"
      ],
      "metadata": {
        "id": "NC7TQ8olyhTv"
      }
    },
    {
      "cell_type": "code",
      "source": [
        "model = tf.keras.Sequential([\n",
        "    tf.keras.layers.Flatten(input_shape=(28, 28)),  # Вытягиваем данные в одномерный массив output_shape = 28 * 28 = 784\n",
        "    tf.keras.layers.Dense(128, activation='relu'),  # Полносвязанный слой с 128 нейронами и активацией relu\n",
        "    tf.keras.layers.Dropout(0.2),  # Рандомно обнуляет выходы из слоя\n",
        "    tf.keras.layers.Dense(10)  # Выходной слой\n",
        "])"
      ],
      "metadata": {
        "id": "akSJXnizuex_"
      },
      "execution_count": 31,
      "outputs": []
    },
    {
      "cell_type": "code",
      "source": [
        "X_train[:1].shape"
      ],
      "metadata": {
        "colab": {
          "base_uri": "https://localhost:8080/"
        },
        "id": "C_DF36-6xuZX",
        "outputId": "ac4bc738-e7ae-40d5-e9da-8c3b97dc0ff3"
      },
      "execution_count": 32,
      "outputs": [
        {
          "output_type": "execute_result",
          "data": {
            "text/plain": [
              "(1, 28, 28)"
            ]
          },
          "metadata": {},
          "execution_count": 32
        }
      ]
    },
    {
      "cell_type": "code",
      "source": [
        "# logit для первой картинки\n",
        "logit = model(X_train[:1]).numpy()\n",
        "logit"
      ],
      "metadata": {
        "colab": {
          "base_uri": "https://localhost:8080/"
        },
        "id": "pwr0CfbNxZp7",
        "outputId": "b80b9dcd-e5cf-43b5-a364-67ad4aa22336"
      },
      "execution_count": 33,
      "outputs": [
        {
          "output_type": "execute_result",
          "data": {
            "text/plain": [
              "array([[-0.2205694 , -0.31923598, -0.23434223, -0.5248339 , -0.34180397,\n",
              "         0.09282494,  0.71495783, -0.06348162,  0.32434833,  0.88565195]],\n",
              "      dtype=float32)"
            ]
          },
          "metadata": {},
          "execution_count": 33
        }
      ]
    },
    {
      "cell_type": "code",
      "source": [
        "prob = tf.nn.softmax(logit).numpy()\n",
        "prob"
      ],
      "metadata": {
        "colab": {
          "base_uri": "https://localhost:8080/"
        },
        "id": "XJYyMK4ExpE_",
        "outputId": "f7b196df-64fa-489a-cc03-f1cebaecd649"
      },
      "execution_count": 34,
      "outputs": [
        {
          "output_type": "execute_result",
          "data": {
            "text/plain": [
              "array([[0.06968663, 0.06313921, 0.06873342, 0.05140544, 0.06173024,\n",
              "        0.09533555, 0.17760034, 0.0815402 , 0.12017225, 0.2106567 ]],\n",
              "      dtype=float32)"
            ]
          },
          "metadata": {},
          "execution_count": 34
        }
      ]
    },
    {
      "cell_type": "code",
      "source": [
        "prob.max(), prob.argmax(), prob.shape"
      ],
      "metadata": {
        "colab": {
          "base_uri": "https://localhost:8080/"
        },
        "id": "COsYTbYLyxgD",
        "outputId": "2d9ae764-4d9c-4bd1-a8a6-16c2e401fea4"
      },
      "execution_count": 37,
      "outputs": [
        {
          "output_type": "execute_result",
          "data": {
            "text/plain": [
              "(0.2106567, 9, (1, 10))"
            ]
          },
          "metadata": {},
          "execution_count": 37
        }
      ]
    },
    {
      "cell_type": "markdown",
      "source": [
        "# Loss"
      ],
      "metadata": {
        "id": "4KttF70KzjDB"
      }
    },
    {
      "cell_type": "code",
      "source": [
        "loss_fn = tf.losses.SparseCategoricalCrossentropy(from_logits=True)  # Кросс энтропия"
      ],
      "metadata": {
        "id": "-Avm9MSuzKCH"
      },
      "execution_count": 38,
      "outputs": []
    },
    {
      "cell_type": "code",
      "source": [
        "loss_fn(y_train[:1], logit).numpy()"
      ],
      "metadata": {
        "colab": {
          "base_uri": "https://localhost:8080/"
        },
        "id": "Rm7VXZ0Kz5SF",
        "outputId": "5375d0e3-46a8-49ff-9f1d-e265f5f0b099"
      },
      "execution_count": 39,
      "outputs": [
        {
          "output_type": "execute_result",
          "data": {
            "text/plain": [
              "2.3503523"
            ]
          },
          "metadata": {},
          "execution_count": 39
        }
      ]
    },
    {
      "cell_type": "markdown",
      "source": [
        "# Компиляция модели"
      ],
      "metadata": {
        "id": "kN6Bqmnb0SZx"
      }
    },
    {
      "cell_type": "code",
      "source": [
        "model.compile(\n",
        "    optimizer='adam',\n",
        "    loss=loss_fn,\n",
        "    metrics=['accuracy']\n",
        ")"
      ],
      "metadata": {
        "id": "Iq8apSRf0EnJ"
      },
      "execution_count": 41,
      "outputs": []
    },
    {
      "cell_type": "markdown",
      "source": [
        "# Обучение модели"
      ],
      "metadata": {
        "id": "pb8ERLpY00K5"
      }
    },
    {
      "cell_type": "code",
      "source": [
        "model.fit(X_train, y_train, epochs=5)"
      ],
      "metadata": {
        "colab": {
          "base_uri": "https://localhost:8080/"
        },
        "id": "fDPXJ8iQ0qEd",
        "outputId": "f047560b-491f-4cea-9466-29deadf051e9"
      },
      "execution_count": 42,
      "outputs": [
        {
          "output_type": "stream",
          "name": "stdout",
          "text": [
            "Epoch 1/5\n",
            "1875/1875 [==============================] - 6s 3ms/step - loss: 0.2995 - accuracy: 0.9127\n",
            "Epoch 2/5\n",
            "1875/1875 [==============================] - 5s 3ms/step - loss: 0.1430 - accuracy: 0.9576\n",
            "Epoch 3/5\n",
            "1875/1875 [==============================] - 6s 3ms/step - loss: 0.1077 - accuracy: 0.9674\n",
            "Epoch 4/5\n",
            "1875/1875 [==============================] - 5s 3ms/step - loss: 0.0899 - accuracy: 0.9721\n",
            "Epoch 5/5\n",
            "1875/1875 [==============================] - 6s 3ms/step - loss: 0.0757 - accuracy: 0.9760\n"
          ]
        },
        {
          "output_type": "execute_result",
          "data": {
            "text/plain": [
              "<keras.callbacks.History at 0x7f4211e07760>"
            ]
          },
          "metadata": {},
          "execution_count": 42
        }
      ]
    },
    {
      "cell_type": "markdown",
      "source": [
        "# Оценка модели"
      ],
      "metadata": {
        "id": "vLayMC0b1OJO"
      }
    },
    {
      "cell_type": "code",
      "source": [
        "model.evaluate(X_test, y_test, verbose=2)"
      ],
      "metadata": {
        "colab": {
          "base_uri": "https://localhost:8080/"
        },
        "id": "xz7DzA331CkO",
        "outputId": "d498367e-4c93-4657-ae75-a29b7f9013a4"
      },
      "execution_count": 46,
      "outputs": [
        {
          "output_type": "stream",
          "name": "stdout",
          "text": [
            "313/313 - 0s - loss: 0.0714 - accuracy: 0.9780 - 384ms/epoch - 1ms/step\n"
          ]
        },
        {
          "output_type": "execute_result",
          "data": {
            "text/plain": [
              "[0.07138607650995255, 0.9779999852180481]"
            ]
          },
          "metadata": {},
          "execution_count": 46
        }
      ]
    },
    {
      "cell_type": "code",
      "source": [
        "probability_model = tf.keras.Sequential([\n",
        "  model,\n",
        "  tf.keras.layers.Softmax()\n",
        "])"
      ],
      "metadata": {
        "id": "97WTNoXH2ByJ"
      },
      "execution_count": 47,
      "outputs": []
    },
    {
      "cell_type": "code",
      "source": [
        "prob = probability_model(X_test[:5]).numpy()\n",
        "prob.shape"
      ],
      "metadata": {
        "colab": {
          "base_uri": "https://localhost:8080/"
        },
        "id": "eH5UKJA52V_C",
        "outputId": "9e456c48-a909-4c84-d351-7ee648b634fb"
      },
      "execution_count": 61,
      "outputs": [
        {
          "output_type": "execute_result",
          "data": {
            "text/plain": [
              "(5, 10)"
            ]
          },
          "metadata": {},
          "execution_count": 61
        }
      ]
    },
    {
      "cell_type": "code",
      "source": [
        "prob"
      ],
      "metadata": {
        "colab": {
          "base_uri": "https://localhost:8080/"
        },
        "id": "cPoMOSV84UBc",
        "outputId": "59855594-6ab0-4c6b-8fb3-dc40046b0bac"
      },
      "execution_count": 65,
      "outputs": [
        {
          "output_type": "execute_result",
          "data": {
            "text/plain": [
              "array([[1.27035790e-07, 9.02834572e-08, 1.08426357e-05, 5.42144466e-04,\n",
              "        1.50517532e-11, 1.86819830e-06, 2.72468493e-14, 9.99437988e-01,\n",
              "        1.17845630e-07, 6.90000934e-06],\n",
              "       [3.97225719e-09, 5.03707852e-04, 9.99456346e-01, 3.55390657e-05,\n",
              "        5.88084337e-14, 4.45997239e-06, 3.34996422e-08, 7.43899820e-12,\n",
              "        2.31179804e-08, 3.72341860e-14],\n",
              "       [1.33635388e-06, 9.98059690e-01, 8.84894835e-05, 2.74419017e-05,\n",
              "        1.78530827e-04, 2.07544545e-05, 1.14299555e-05, 1.25026272e-03,\n",
              "        3.38730111e-04, 2.33690898e-05],\n",
              "       [9.99811590e-01, 5.08901012e-11, 1.06545551e-04, 5.42902328e-08,\n",
              "        8.35606784e-08, 1.68162796e-06, 7.05981563e-07, 1.98351117e-05,\n",
              "        1.17765175e-09, 5.94958328e-05],\n",
              "       [2.09631580e-05, 3.57420582e-09, 1.34346010e-05, 1.12203455e-08,\n",
              "        9.83213902e-01, 4.39737349e-08, 1.91789895e-05, 5.87883696e-05,\n",
              "        2.34782931e-07, 1.66734643e-02]], dtype=float32)"
            ]
          },
          "metadata": {},
          "execution_count": 65
        }
      ]
    },
    {
      "cell_type": "code",
      "source": [
        "prob.argmax(axis=1)"
      ],
      "metadata": {
        "colab": {
          "base_uri": "https://localhost:8080/"
        },
        "id": "_ZRjmzJD2Zr6",
        "outputId": "b180ed85-695f-421d-fba6-f3318f5426f8"
      },
      "execution_count": 64,
      "outputs": [
        {
          "output_type": "execute_result",
          "data": {
            "text/plain": [
              "array([7, 2, 1, 0, 4])"
            ]
          },
          "metadata": {},
          "execution_count": 64
        }
      ]
    },
    {
      "cell_type": "code",
      "source": [],
      "metadata": {
        "id": "1-umI7fh3bk-"
      },
      "execution_count": null,
      "outputs": []
    }
  ]
}