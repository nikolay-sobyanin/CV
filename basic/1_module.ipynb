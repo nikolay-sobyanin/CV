{
 "cells": [
  {
   "cell_type": "code",
   "execution_count": 1,
   "id": "2c6433df",
   "metadata": {},
   "outputs": [],
   "source": [
    "import torch"
   ]
  },
  {
   "cell_type": "code",
   "execution_count": 2,
   "id": "8a52c3dc",
   "metadata": {},
   "outputs": [
    {
     "data": {
      "text/plain": [
       "tensor([[0.0758, 0.6027, 0.2170,  ..., 0.9654, 0.9276, 0.7466],\n",
       "        [0.1767, 0.3278, 0.9952,  ..., 0.9978, 0.2203, 0.1719],\n",
       "        [0.8976, 0.3230, 0.8656,  ..., 0.0913, 0.2435, 0.8111],\n",
       "        ...,\n",
       "        [0.3278, 0.8601, 0.9154,  ..., 0.8092, 0.4807, 0.7771],\n",
       "        [0.5327, 0.4231, 0.9988,  ..., 0.7126, 0.7122, 0.0285],\n",
       "        [0.8256, 0.7242, 0.9352,  ..., 0.4830, 0.7930, 0.6424]])"
      ]
     },
     "execution_count": 2,
     "metadata": {},
     "output_type": "execute_result"
    }
   ],
   "source": [
    "x = torch.rand([2000, 3000])\n",
    "x"
   ]
  },
  {
   "cell_type": "code",
   "execution_count": 3,
   "id": "aa5a342a",
   "metadata": {},
   "outputs": [
    {
     "data": {
      "text/plain": [
       "False"
      ]
     },
     "execution_count": 3,
     "metadata": {},
     "output_type": "execute_result"
    }
   ],
   "source": [
    "torch.cuda.is_available()"
   ]
  },
  {
   "cell_type": "code",
   "execution_count": 4,
   "id": "84f0f0a1",
   "metadata": {},
   "outputs": [],
   "source": [
    "device = torch.device('cuda:0' if torch.cuda.is_available() else 'cpu')"
   ]
  },
  {
   "cell_type": "code",
   "execution_count": 5,
   "id": "b371f75a",
   "metadata": {},
   "outputs": [
    {
     "data": {
      "text/plain": [
       "tensor([[0.0758, 0.6027, 0.2170,  ..., 0.9654, 0.9276, 0.7466],\n",
       "        [0.1767, 0.3278, 0.9952,  ..., 0.9978, 0.2203, 0.1719],\n",
       "        [0.8976, 0.3230, 0.8656,  ..., 0.0913, 0.2435, 0.8111],\n",
       "        ...,\n",
       "        [0.3278, 0.8601, 0.9154,  ..., 0.8092, 0.4807, 0.7771],\n",
       "        [0.5327, 0.4231, 0.9988,  ..., 0.7126, 0.7122, 0.0285],\n",
       "        [0.8256, 0.7242, 0.9352,  ..., 0.4830, 0.7930, 0.6424]])"
      ]
     },
     "execution_count": 5,
     "metadata": {},
     "output_type": "execute_result"
    }
   ],
   "source": [
    "x"
   ]
  },
  {
   "cell_type": "code",
   "execution_count": 6,
   "id": "da24112e",
   "metadata": {},
   "outputs": [
    {
     "name": "stdout",
     "output_type": "stream",
     "text": [
      "Wall time: 16.8 ms\n"
     ]
    }
   ],
   "source": [
    "%time y = (x - x + x * 10.0) ** 2"
   ]
  },
  {
   "cell_type": "code",
   "execution_count": null,
   "id": "4199dfde",
   "metadata": {},
   "outputs": [],
   "source": []
  },
  {
   "cell_type": "code",
   "execution_count": null,
   "id": "82e067a5",
   "metadata": {},
   "outputs": [],
   "source": []
  }
 ],
 "metadata": {
  "kernelspec": {
   "display_name": "Python 3 (ipykernel)",
   "language": "python",
   "name": "python3"
  },
  "language_info": {
   "codemirror_mode": {
    "name": "ipython",
    "version": 3
   },
   "file_extension": ".py",
   "mimetype": "text/x-python",
   "name": "python",
   "nbconvert_exporter": "python",
   "pygments_lexer": "ipython3",
   "version": "3.9.13"
  }
 },
 "nbformat": 4,
 "nbformat_minor": 5
}
