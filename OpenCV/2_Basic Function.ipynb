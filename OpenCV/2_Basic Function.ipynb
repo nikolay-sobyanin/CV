{
 "cells": [
  {
   "cell_type": "code",
   "execution_count": 2,
   "id": "9c451f65",
   "metadata": {},
   "outputs": [],
   "source": [
    "import cv2\n",
    "import matplotlib.pyplot as plt\n",
    "import os"
   ]
  },
  {
   "cell_type": "markdown",
   "id": "47b3827e",
   "metadata": {},
   "source": [
    "# Read in Image"
   ]
  },
  {
   "cell_type": "code",
   "execution_count": null,
   "id": "37938969",
   "metadata": {},
   "outputs": [],
   "source": []
  }
 ],
 "metadata": {
  "kernelspec": {
   "display_name": "Python 3 (ipykernel)",
   "language": "python",
   "name": "python3"
  },
  "language_info": {
   "codemirror_mode": {
    "name": "ipython",
    "version": 3
   },
   "file_extension": ".py",
   "mimetype": "text/x-python",
   "name": "python",
   "nbconvert_exporter": "python",
   "pygments_lexer": "ipython3",
   "version": "3.9.13"
  }
 },
 "nbformat": 4,
 "nbformat_minor": 5
}
