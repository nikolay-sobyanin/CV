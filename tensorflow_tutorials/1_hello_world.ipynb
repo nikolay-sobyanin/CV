{
 "cells": [
  {
   "cell_type": "code",
   "execution_count": 1,
   "metadata": {
    "executionInfo": {
     "elapsed": 246,
     "status": "ok",
     "timestamp": 1679581926435,
     "user": {
      "displayName": "Николай Собянин",
      "userId": "11497179690463303801"
     },
     "user_tz": -180
    },
    "id": "VCtoDosmsx8a"
   },
   "outputs": [],
   "source": [
    "import tensorflow as tf\n",
    "import numpy as np\n",
    "import matplotlib.pyplot as plt\n",
    "%matplotlib inline"
   ]
  },
  {
   "cell_type": "code",
   "execution_count": 2,
   "metadata": {
    "colab": {
     "base_uri": "https://localhost:8080/"
    },
    "executionInfo": {
     "elapsed": 2,
     "status": "ok",
     "timestamp": 1679580467760,
     "user": {
      "displayName": "Николай Собянин",
      "userId": "11497179690463303801"
     },
     "user_tz": -180
    },
    "id": "fBqjbnKJs4ZO",
    "outputId": "11f1b265-a071-4ccc-99e8-dd71fb9f4ba5"
   },
   "outputs": [
    {
     "name": "stdout",
     "output_type": "stream",
     "text": [
      "Version TensorFlow:  2.10.0\n"
     ]
    }
   ],
   "source": [
    "print('Version TensorFlow: ', tf.__version__)"
   ]
  },
  {
   "cell_type": "markdown",
   "metadata": {
    "id": "vhlPocaGuIxq"
   },
   "source": [
    "# Загрузка датасета"
   ]
  },
  {
   "cell_type": "code",
   "execution_count": 3,
   "metadata": {
    "executionInfo": {
     "elapsed": 3,
     "status": "ok",
     "timestamp": 1679580467761,
     "user": {
      "displayName": "Николай Собянин",
      "userId": "11497179690463303801"
     },
     "user_tz": -180
    },
    "id": "yVAdtv30tCKl"
   },
   "outputs": [],
   "source": [
    "mnist = tf.keras.datasets.mnist"
   ]
  },
  {
   "cell_type": "code",
   "execution_count": 4,
   "metadata": {
    "executionInfo": {
     "elapsed": 221,
     "status": "ok",
     "timestamp": 1679580467980,
     "user": {
      "displayName": "Николай Собянин",
      "userId": "11497179690463303801"
     },
     "user_tz": -180
    },
    "id": "lBAsurUVtPcr"
   },
   "outputs": [],
   "source": [
    "(X_train, y_train), (X_test, y_test) = mnist.load_data()"
   ]
  },
  {
   "cell_type": "code",
   "execution_count": 5,
   "metadata": {
    "colab": {
     "base_uri": "https://localhost:8080/"
    },
    "executionInfo": {
     "elapsed": 3,
     "status": "ok",
     "timestamp": 1679580467980,
     "user": {
      "displayName": "Николай Собянин",
      "userId": "11497179690463303801"
     },
     "user_tz": -180
    },
    "id": "ik9K5BBRth3_",
    "outputId": "b3ed9a59-ac62-4a78-9b67-fcf7a4b47560"
   },
   "outputs": [
    {
     "data": {
      "text/plain": [
       "((60000, 28, 28), (10000, 28, 28))"
      ]
     },
     "execution_count": 5,
     "metadata": {},
     "output_type": "execute_result"
    }
   ],
   "source": [
    "X_train.shape, X_test.shape"
   ]
  },
  {
   "cell_type": "code",
   "execution_count": 6,
   "metadata": {
    "colab": {
     "base_uri": "https://localhost:8080/",
     "height": 265
    },
    "executionInfo": {
     "elapsed": 239,
     "status": "ok",
     "timestamp": 1679582062354,
     "user": {
      "displayName": "Николай Собянин",
      "userId": "11497179690463303801"
     },
     "user_tz": -180
    },
    "id": "lquxJA8b4m6Z",
    "outputId": "97c71da4-77d0-4607-84e8-677a80da5121"
   },
   "outputs": [
    {
     "data": {
      "image/png": "[encoded data removed]",
      "text/plain": [
       "<Figure size 640x480 with 1 Axes>"
      ]
     },
     "metadata": {},
     "output_type": "display_data"
    }
   ],
   "source": [
    "img = X_train[0]\n",
    "plt.imshow(img);"
   ]
  },
  {
   "cell_type": "markdown",
   "metadata": {
    "id": "xDDu9Zs0uOFQ"
   },
   "source": [
    "# Нормализация простейшая"
   ]
  },
  {
   "cell_type": "code",
   "execution_count": 7,
   "metadata": {
    "executionInfo": {
     "elapsed": 3,
     "status": "ok",
     "timestamp": 1679580467981,
     "user": {
      "displayName": "Николай Собянин",
      "userId": "11497179690463303801"
     },
     "user_tz": -180
    },
    "id": "SIqzdLCQtmUF"
   },
   "outputs": [],
   "source": [
    "X_train, X_test = X_train / 255., X_test / 255."
   ]
  },
  {
   "cell_type": "markdown",
   "metadata": {
    "id": "NC7TQ8olyhTv"
   },
   "source": [
    "# Создание модели"
   ]
  },
  {
   "cell_type": "code",
   "execution_count": 8,
   "metadata": {
    "executionInfo": {
     "elapsed": 284,
     "status": "ok",
     "timestamp": 1679580468262,
     "user": {
      "displayName": "Николай Собянин",
      "userId": "11497179690463303801"
     },
     "user_tz": -180
    },
    "id": "akSJXnizuex_"
   },
   "outputs": [],
   "source": [
    "model = tf.keras.Sequential([\n",
    "    tf.keras.layers.Flatten(input_shape=(28, 28))\n",
    "])"
   ]
  },
  {
   "cell_type": "code",
   "execution_count": 9,
   "metadata": {
    "colab": {
     "base_uri": "https://localhost:8080/"
    },
    "executionInfo": {
     "elapsed": 7,
     "status": "ok",
     "timestamp": 1679580468263,
     "user": {
      "displayName": "Николай Собянин",
      "userId": "11497179690463303801"
     },
     "user_tz": -180
    },
    "id": "C_DF36-6xuZX",
    "outputId": "ac4bc738-e7ae-40d5-e9da-8c3b97dc0ff3"
   },
   "outputs": [
    {
     "data": {
      "text/plain": [
       "(1, 28, 28)"
      ]
     },
     "execution_count": 9,
     "metadata": {},
     "output_type": "execute_result"
    }
   ],
   "source": [
    "X_train[:1].shape"
   ]
  },
  {
   "cell_type": "code",
   "execution_count": 10,
   "metadata": {
    "colab": {
     "base_uri": "https://localhost:8080/"
    },
    "executionInfo": {
     "elapsed": 6,
     "status": "ok",
     "timestamp": 1679580468263,
     "user": {
      "displayName": "Николай Собянин",
      "userId": "11497179690463303801"
     },
     "user_tz": -180
    },
    "id": "pwr0CfbNxZp7",
    "outputId": "b80b9dcd-e5cf-43b5-a364-67ad4aa22336"
   },
   "outputs": [
    {
     "data": {
      "text/plain": [
       "array([[0.        , 0.        , 0.        , 0.        , 0.        ,\n",
       "        0.        , 0.        , 0.        , 0.        , 0.        ,\n",
       "        0.        , 0.        , 0.        , 0.        , 0.        ,\n",
       "        0.        , 0.        , 0.        , 0.        , 0.        ,\n",
       "        0.        , 0.        , 0.        , 0.        , 0.        ,\n",
       "        0.        , 0.        , 0.        , 0.        , 0.        ,\n",
       "        0.        , 0.        , 0.        , 0.        , 0.        ,\n",
       "        0.        , 0.        , 0.        , 0.        , 0.        ,\n",
       "        0.        , 0.        , 0.        , 0.        , 0.        ,\n",
       "        0.        , 0.        , 0.        , 0.        , 0.        ,\n",
       "        0.        , 0.        , 0.        , 0.        , 0.        ,\n",
       "        0.        , 0.        , 0.        , 0.        , 0.        ,\n",
       "        0.        , 0.        , 0.        , 0.        , 0.        ,\n",
       "        0.        , 0.        , 0.        , 0.        , 0.        ,\n",
       "        0.        , 0.        , 0.        , 0.        , 0.        ,\n",
       "        0.        , 0.        , 0.        , 0.        , 0.        ,\n",
       "        0.        , 0.        , 0.        , 0.        , 0.        ,\n",
       "        0.        , 0.        , 0.        , 0.        , 0.        ,\n",
       "        0.        , 0.        , 0.        , 0.        , 0.        ,\n",
       "        0.        , 0.        , 0.        , 0.        , 0.        ,\n",
       "        0.        , 0.        , 0.        , 0.        , 0.        ,\n",
       "        0.        , 0.        , 0.        , 0.        , 0.        ,\n",
       "        0.        , 0.        , 0.        , 0.        , 0.        ,\n",
       "        0.        , 0.        , 0.        , 0.        , 0.        ,\n",
       "        0.        , 0.        , 0.        , 0.        , 0.        ,\n",
       "        0.        , 0.        , 0.        , 0.        , 0.        ,\n",
       "        0.        , 0.        , 0.        , 0.        , 0.        ,\n",
       "        0.        , 0.        , 0.        , 0.        , 0.        ,\n",
       "        0.        , 0.        , 0.        , 0.        , 0.        ,\n",
       "        0.        , 0.        , 0.        , 0.        , 0.        ,\n",
       "        0.        , 0.        , 0.01176471, 0.07058824, 0.07058824,\n",
       "        0.07058824, 0.49411765, 0.53333336, 0.6862745 , 0.10196079,\n",
       "        0.6509804 , 1.        , 0.96862745, 0.49803922, 0.        ,\n",
       "        0.        , 0.        , 0.        , 0.        , 0.        ,\n",
       "        0.        , 0.        , 0.        , 0.        , 0.        ,\n",
       "        0.        , 0.11764706, 0.14117648, 0.36862746, 0.6039216 ,\n",
       "        0.6666667 , 0.99215686, 0.99215686, 0.99215686, 0.99215686,\n",
       "        0.99215686, 0.88235295, 0.6745098 , 0.99215686, 0.9490196 ,\n",
       "        0.7647059 , 0.2509804 , 0.        , 0.        , 0.        ,\n",
       "        0.        , 0.        , 0.        , 0.        , 0.        ,\n",
       "        0.        , 0.        , 0.        , 0.19215687, 0.93333334,\n",
       "        0.99215686, 0.99215686, 0.99215686, 0.99215686, 0.99215686,\n",
       "        0.99215686, 0.99215686, 0.99215686, 0.9843137 , 0.3647059 ,\n",
       "        0.32156864, 0.32156864, 0.21960784, 0.15294118, 0.        ,\n",
       "        0.        , 0.        , 0.        , 0.        , 0.        ,\n",
       "        0.        , 0.        , 0.        , 0.        , 0.        ,\n",
       "        0.        , 0.07058824, 0.85882354, 0.99215686, 0.99215686,\n",
       "        0.99215686, 0.99215686, 0.99215686, 0.7764706 , 0.7137255 ,\n",
       "        0.96862745, 0.94509804, 0.        , 0.        , 0.        ,\n",
       "        0.        , 0.        , 0.        , 0.        , 0.        ,\n",
       "        0.        , 0.        , 0.        , 0.        , 0.        ,\n",
       "        0.        , 0.        , 0.        , 0.        , 0.        ,\n",
       "        0.3137255 , 0.6117647 , 0.41960785, 0.99215686, 0.99215686,\n",
       "        0.8039216 , 0.04313726, 0.        , 0.16862746, 0.6039216 ,\n",
       "        0.        , 0.        , 0.        , 0.        , 0.        ,\n",
       "        0.        , 0.        , 0.        , 0.        , 0.        ,\n",
       "        0.        , 0.        , 0.        , 0.        , 0.        ,\n",
       "        0.        , 0.        , 0.        , 0.        , 0.05490196,\n",
       "        0.00392157, 0.6039216 , 0.99215686, 0.3529412 , 0.        ,\n",
       "        0.        , 0.        , 0.        , 0.        , 0.        ,\n",
       "        0.        , 0.        , 0.        , 0.        , 0.        ,\n",
       "        0.        , 0.        , 0.        , 0.        , 0.        ,\n",
       "        0.        , 0.        , 0.        , 0.        , 0.        ,\n",
       "        0.        , 0.        , 0.        , 0.        , 0.54509807,\n",
       "        0.99215686, 0.74509805, 0.00784314, 0.        , 0.        ,\n",
       "        0.        , 0.        , 0.        , 0.        , 0.        ,\n",
       "        0.        , 0.        , 0.        , 0.        , 0.        ,\n",
       "        0.        , 0.        , 0.        , 0.        , 0.        ,\n",
       "        0.        , 0.        , 0.        , 0.        , 0.        ,\n",
       "        0.        , 0.        , 0.04313726, 0.74509805, 0.99215686,\n",
       "        0.27450982, 0.        , 0.        , 0.        , 0.        ,\n",
       "        0.        , 0.        , 0.        , 0.        , 0.        ,\n",
       "        0.        , 0.        , 0.        , 0.        , 0.        ,\n",
       "        0.        , 0.        , 0.        , 0.        , 0.        ,\n",
       "        0.        , 0.        , 0.        , 0.        , 0.        ,\n",
       "        0.        , 0.13725491, 0.94509804, 0.88235295, 0.627451  ,\n",
       "        0.42352942, 0.00392157, 0.        , 0.        , 0.        ,\n",
       "        0.        , 0.        , 0.        , 0.        , 0.        ,\n",
       "        0.        , 0.        , 0.        , 0.        , 0.        ,\n",
       "        0.        , 0.        , 0.        , 0.        , 0.        ,\n",
       "        0.        , 0.        , 0.        , 0.        , 0.        ,\n",
       "        0.31764707, 0.9411765 , 0.99215686, 0.99215686, 0.46666667,\n",
       "        0.09803922, 0.        , 0.        , 0.        , 0.        ,\n",
       "        0.        , 0.        , 0.        , 0.        , 0.        ,\n",
       "        0.        , 0.        , 0.        , 0.        , 0.        ,\n",
       "        0.        , 0.        , 0.        , 0.        , 0.        ,\n",
       "        0.        , 0.        , 0.        , 0.        , 0.1764706 ,\n",
       "        0.7294118 , 0.99215686, 0.99215686, 0.5882353 , 0.10588235,\n",
       "        0.        , 0.        , 0.        , 0.        , 0.        ,\n",
       "        0.        , 0.        , 0.        , 0.        , 0.        ,\n",
       "        0.        , 0.        , 0.        , 0.        , 0.        ,\n",
       "        0.        , 0.        , 0.        , 0.        , 0.        ,\n",
       "        0.        , 0.        , 0.        , 0.0627451 , 0.3647059 ,\n",
       "        0.9882353 , 0.99215686, 0.73333335, 0.        , 0.        ,\n",
       "        0.        , 0.        , 0.        , 0.        , 0.        ,\n",
       "        0.        , 0.        , 0.        , 0.        , 0.        ,\n",
       "        0.        , 0.        , 0.        , 0.        , 0.        ,\n",
       "        0.        , 0.        , 0.        , 0.        , 0.        ,\n",
       "        0.        , 0.        , 0.        , 0.9764706 , 0.99215686,\n",
       "        0.9764706 , 0.2509804 , 0.        , 0.        , 0.        ,\n",
       "        0.        , 0.        , 0.        , 0.        , 0.        ,\n",
       "        0.        , 0.        , 0.        , 0.        , 0.        ,\n",
       "        0.        , 0.        , 0.        , 0.        , 0.        ,\n",
       "        0.        , 0.        , 0.        , 0.18039216, 0.50980395,\n",
       "        0.7176471 , 0.99215686, 0.99215686, 0.8117647 , 0.00784314,\n",
       "        0.        , 0.        , 0.        , 0.        , 0.        ,\n",
       "        0.        , 0.        , 0.        , 0.        , 0.        ,\n",
       "        0.        , 0.        , 0.        , 0.        , 0.        ,\n",
       "        0.        , 0.        , 0.        , 0.        , 0.15294118,\n",
       "        0.5803922 , 0.8980392 , 0.99215686, 0.99215686, 0.99215686,\n",
       "        0.98039216, 0.7137255 , 0.        , 0.        , 0.        ,\n",
       "        0.        , 0.        , 0.        , 0.        , 0.        ,\n",
       "        0.        , 0.        , 0.        , 0.        , 0.        ,\n",
       "        0.        , 0.        , 0.        , 0.        , 0.        ,\n",
       "        0.09411765, 0.44705883, 0.8666667 , 0.99215686, 0.99215686,\n",
       "        0.99215686, 0.99215686, 0.7882353 , 0.30588236, 0.        ,\n",
       "        0.        , 0.        , 0.        , 0.        , 0.        ,\n",
       "        0.        , 0.        , 0.        , 0.        , 0.        ,\n",
       "        0.        , 0.        , 0.        , 0.        , 0.        ,\n",
       "        0.        , 0.09019608, 0.25882354, 0.8352941 , 0.99215686,\n",
       "        0.99215686, 0.99215686, 0.99215686, 0.7764706 , 0.31764707,\n",
       "        0.00784314, 0.        , 0.        , 0.        , 0.        ,\n",
       "        0.        , 0.        , 0.        , 0.        , 0.        ,\n",
       "        0.        , 0.        , 0.        , 0.        , 0.        ,\n",
       "        0.        , 0.        , 0.07058824, 0.67058825, 0.85882354,\n",
       "        0.99215686, 0.99215686, 0.99215686, 0.99215686, 0.7647059 ,\n",
       "        0.3137255 , 0.03529412, 0.        , 0.        , 0.        ,\n",
       "        0.        , 0.        , 0.        , 0.        , 0.        ,\n",
       "        0.        , 0.        , 0.        , 0.        , 0.        ,\n",
       "        0.        , 0.        , 0.        , 0.21568628, 0.6745098 ,\n",
       "        0.8862745 , 0.99215686, 0.99215686, 0.99215686, 0.99215686,\n",
       "        0.95686275, 0.52156866, 0.04313726, 0.        , 0.        ,\n",
       "        0.        , 0.        , 0.        , 0.        , 0.        ,\n",
       "        0.        , 0.        , 0.        , 0.        , 0.        ,\n",
       "        0.        , 0.        , 0.        , 0.        , 0.        ,\n",
       "        0.        , 0.53333336, 0.99215686, 0.99215686, 0.99215686,\n",
       "        0.83137256, 0.5294118 , 0.5176471 , 0.0627451 , 0.        ,\n",
       "        0.        , 0.        , 0.        , 0.        , 0.        ,\n",
       "        0.        , 0.        , 0.        , 0.        , 0.        ,\n",
       "        0.        , 0.        , 0.        , 0.        , 0.        ,\n",
       "        0.        , 0.        , 0.        , 0.        , 0.        ,\n",
       "        0.        , 0.        , 0.        , 0.        , 0.        ,\n",
       "        0.        , 0.        , 0.        , 0.        , 0.        ,\n",
       "        0.        , 0.        , 0.        , 0.        , 0.        ,\n",
       "        0.        , 0.        , 0.        , 0.        , 0.        ,\n",
       "        0.        , 0.        , 0.        , 0.        , 0.        ,\n",
       "        0.        , 0.        , 0.        , 0.        , 0.        ,\n",
       "        0.        , 0.        , 0.        , 0.        , 0.        ,\n",
       "        0.        , 0.        , 0.        , 0.        , 0.        ,\n",
       "        0.        , 0.        , 0.        , 0.        , 0.        ,\n",
       "        0.        , 0.        , 0.        , 0.        , 0.        ,\n",
       "        0.        , 0.        , 0.        , 0.        , 0.        ,\n",
       "        0.        , 0.        , 0.        , 0.        , 0.        ,\n",
       "        0.        , 0.        , 0.        , 0.        , 0.        ,\n",
       "        0.        , 0.        , 0.        , 0.        , 0.        ,\n",
       "        0.        , 0.        , 0.        , 0.        , 0.        ,\n",
       "        0.        , 0.        , 0.        , 0.        ]], dtype=float32)"
      ]
     },
     "execution_count": 10,
     "metadata": {},
     "output_type": "execute_result"
    }
   ],
   "source": [
    "# logit для первой картинки\n",
    "logit = model(X_train[:1]).numpy()\n",
    "logit"
   ]
  },
  {
   "cell_type": "code",
   "execution_count": 11,
   "metadata": {
    "colab": {
     "base_uri": "https://localhost:8080/"
    },
    "executionInfo": {
     "elapsed": 4,
     "status": "ok",
     "timestamp": 1679580468263,
     "user": {
      "displayName": "Николай Собянин",
      "userId": "11497179690463303801"
     },
     "user_tz": -180
    },
    "id": "XJYyMK4ExpE_",
    "outputId": "f7b196df-64fa-489a-cc03-f1cebaecd649"
   },
   "outputs": [
    {
     "data": {
      "text/plain": [
       "array([[0.00104672, 0.00104672, 0.00104672, 0.00104672, 0.00104672,\n",
       "        0.00104672, 0.00104672, 0.00104672, 0.00104672, 0.00104672,\n",
       "        0.00104672, 0.00104672, 0.00104672, 0.00104672, 0.00104672,\n",
       "        0.00104672, 0.00104672, 0.00104672, 0.00104672, 0.00104672,\n",
       "        0.00104672, 0.00104672, 0.00104672, 0.00104672, 0.00104672,\n",
       "        0.00104672, 0.00104672, 0.00104672, 0.00104672, 0.00104672,\n",
       "        0.00104672, 0.00104672, 0.00104672, 0.00104672, 0.00104672,\n",
       "        0.00104672, 0.00104672, 0.00104672, 0.00104672, 0.00104672,\n",
       "        0.00104672, 0.00104672, 0.00104672, 0.00104672, 0.00104672,\n",
       "        0.00104672, 0.00104672, 0.00104672, 0.00104672, 0.00104672,\n",
       "        0.00104672, 0.00104672, 0.00104672, 0.00104672, 0.00104672,\n",
       "        0.00104672, 0.00104672, 0.00104672, 0.00104672, 0.00104672,\n",
       "        0.00104672, 0.00104672, 0.00104672, 0.00104672, 0.00104672,\n",
       "        0.00104672, 0.00104672, 0.00104672, 0.00104672, 0.00104672,\n",
       "        0.00104672, 0.00104672, 0.00104672, 0.00104672, 0.00104672,\n",
       "        0.00104672, 0.00104672, 0.00104672, 0.00104672, 0.00104672,\n",
       "        0.00104672, 0.00104672, 0.00104672, 0.00104672, 0.00104672,\n",
       "        0.00104672, 0.00104672, 0.00104672, 0.00104672, 0.00104672,\n",
       "        0.00104672, 0.00104672, 0.00104672, 0.00104672, 0.00104672,\n",
       "        0.00104672, 0.00104672, 0.00104672, 0.00104672, 0.00104672,\n",
       "        0.00104672, 0.00104672, 0.00104672, 0.00104672, 0.00104672,\n",
       "        0.00104672, 0.00104672, 0.00104672, 0.00104672, 0.00104672,\n",
       "        0.00104672, 0.00104672, 0.00104672, 0.00104672, 0.00104672,\n",
       "        0.00104672, 0.00104672, 0.00104672, 0.00104672, 0.00104672,\n",
       "        0.00104672, 0.00104672, 0.00104672, 0.00104672, 0.00104672,\n",
       "        0.00104672, 0.00104672, 0.00104672, 0.00104672, 0.00104672,\n",
       "        0.00104672, 0.00104672, 0.00104672, 0.00104672, 0.00104672,\n",
       "        0.00104672, 0.00104672, 0.00104672, 0.00104672, 0.00104672,\n",
       "        0.00104672, 0.00104672, 0.00104672, 0.00104672, 0.00104672,\n",
       "        0.00104672, 0.00104672, 0.00104672, 0.00104672, 0.00104672,\n",
       "        0.00104672, 0.00104672, 0.00105911, 0.00112328, 0.00112328,\n",
       "        0.00112328, 0.00171563, 0.00178424, 0.0020791 , 0.00115908,\n",
       "        0.002007  , 0.00284528, 0.0027574 , 0.00172237, 0.00104672,\n",
       "        0.00104672, 0.00104672, 0.00104672, 0.00104672, 0.00104672,\n",
       "        0.00104672, 0.00104672, 0.00104672, 0.00104672, 0.00104672,\n",
       "        0.00104672, 0.0011774 , 0.00120543, 0.00151329, 0.00191474,\n",
       "        0.00203873, 0.00282305, 0.00282305, 0.00282305, 0.00282305,\n",
       "        0.00282305, 0.00252948, 0.00205479, 0.00282305, 0.00270386,\n",
       "        0.00224873, 0.00134533, 0.00104672, 0.00104672, 0.00104672,\n",
       "        0.00104672, 0.00104672, 0.00104672, 0.00104672, 0.00104672,\n",
       "        0.00104672, 0.00104672, 0.00104672, 0.00126848, 0.00266178,\n",
       "        0.00282305, 0.00282305, 0.00282305, 0.00282305, 0.00282305,\n",
       "        0.00282305, 0.00282305, 0.00282305, 0.002801  , 0.00150737,\n",
       "        0.00144373, 0.00144373, 0.00130378, 0.0012197 , 0.00104672,\n",
       "        0.00104672, 0.00104672, 0.00104672, 0.00104672, 0.00104672,\n",
       "        0.00104672, 0.00104672, 0.00104672, 0.00104672, 0.00104672,\n",
       "        0.00104672, 0.00112328, 0.00247066, 0.00282305, 0.00282305,\n",
       "        0.00282305, 0.00282305, 0.00282305, 0.00227535, 0.00213697,\n",
       "        0.0027574 , 0.00269328, 0.00104672, 0.00104672, 0.00104672,\n",
       "        0.00104672, 0.00104672, 0.00104672, 0.00104672, 0.00104672,\n",
       "        0.00104672, 0.00104672, 0.00104672, 0.00104672, 0.00104672,\n",
       "        0.00104672, 0.00104672, 0.00104672, 0.00104672, 0.00104672,\n",
       "        0.00143245, 0.00192982, 0.00159244, 0.00282305, 0.00282305,\n",
       "        0.00233867, 0.00109286, 0.00104672, 0.00123898, 0.00191474,\n",
       "        0.00104672, 0.00104672, 0.00104672, 0.00104672, 0.00104672,\n",
       "        0.00104672, 0.00104672, 0.00104672, 0.00104672, 0.00104672,\n",
       "        0.00104672, 0.00104672, 0.00104672, 0.00104672, 0.00104672,\n",
       "        0.00104672, 0.00104672, 0.00104672, 0.00104672, 0.00110579,\n",
       "        0.00105083, 0.00191474, 0.00282305, 0.00148974, 0.00104672,\n",
       "        0.00104672, 0.00104672, 0.00104672, 0.00104672, 0.00104672,\n",
       "        0.00104672, 0.00104672, 0.00104672, 0.00104672, 0.00104672,\n",
       "        0.00104672, 0.00104672, 0.00104672, 0.00104672, 0.00104672,\n",
       "        0.00104672, 0.00104672, 0.00104672, 0.00104672, 0.00104672,\n",
       "        0.00104672, 0.00104672, 0.00104672, 0.00104672, 0.00180536,\n",
       "        0.00282305, 0.00220507, 0.00105496, 0.00104672, 0.00104672,\n",
       "        0.00104672, 0.00104672, 0.00104672, 0.00104672, 0.00104672,\n",
       "        0.00104672, 0.00104672, 0.00104672, 0.00104672, 0.00104672,\n",
       "        0.00104672, 0.00104672, 0.00104672, 0.00104672, 0.00104672,\n",
       "        0.00104672, 0.00104672, 0.00104672, 0.00104672, 0.00104672,\n",
       "        0.00104672, 0.00104672, 0.00109286, 0.00220507, 0.00282305,\n",
       "        0.00137736, 0.00104672, 0.00104672, 0.00104672, 0.00104672,\n",
       "        0.00104672, 0.00104672, 0.00104672, 0.00104672, 0.00104672,\n",
       "        0.00104672, 0.00104672, 0.00104672, 0.00104672, 0.00104672,\n",
       "        0.00104672, 0.00104672, 0.00104672, 0.00104672, 0.00104672,\n",
       "        0.00104672, 0.00104672, 0.00104672, 0.00104672, 0.00104672,\n",
       "        0.00104672, 0.00120071, 0.00269328, 0.00252948, 0.00196033,\n",
       "        0.0015987 , 0.00105083, 0.00104672, 0.00104672, 0.00104672,\n",
       "        0.00104672, 0.00104672, 0.00104672, 0.00104672, 0.00104672,\n",
       "        0.00104672, 0.00104672, 0.00104672, 0.00104672, 0.00104672,\n",
       "        0.00104672, 0.00104672, 0.00104672, 0.00104672, 0.00104672,\n",
       "        0.00104672, 0.00104672, 0.00104672, 0.00104672, 0.00104672,\n",
       "        0.00143808, 0.00268274, 0.00282305, 0.00282305, 0.00166917,\n",
       "        0.00115454, 0.00104672, 0.00104672, 0.00104672, 0.00104672,\n",
       "        0.00104672, 0.00104672, 0.00104672, 0.00104672, 0.00104672,\n",
       "        0.00104672, 0.00104672, 0.00104672, 0.00104672, 0.00104672,\n",
       "        0.00104672, 0.00104672, 0.00104672, 0.00104672, 0.00104672,\n",
       "        0.00104672, 0.00104672, 0.00104672, 0.00104672, 0.00124874,\n",
       "        0.00217075, 0.00282305, 0.00282305, 0.00188494, 0.00116363,\n",
       "        0.00104672, 0.00104672, 0.00104672, 0.00104672, 0.00104672,\n",
       "        0.00104672, 0.00104672, 0.00104672, 0.00104672, 0.00104672,\n",
       "        0.00104672, 0.00104672, 0.00104672, 0.00104672, 0.00104672,\n",
       "        0.00104672, 0.00104672, 0.00104672, 0.00104672, 0.00104672,\n",
       "        0.00104672, 0.00104672, 0.00104672, 0.0011145 , 0.00150737,\n",
       "        0.002812  , 0.00282305, 0.00217928, 0.00104672, 0.00104672,\n",
       "        0.00104672, 0.00104672, 0.00104672, 0.00104672, 0.00104672,\n",
       "        0.00104672, 0.00104672, 0.00104672, 0.00104672, 0.00104672,\n",
       "        0.00104672, 0.00104672, 0.00104672, 0.00104672, 0.00104672,\n",
       "        0.00104672, 0.00104672, 0.00104672, 0.00104672, 0.00104672,\n",
       "        0.00104672, 0.00104672, 0.00104672, 0.00277911, 0.00282305,\n",
       "        0.00277911, 0.00134533, 0.00104672, 0.00104672, 0.00104672,\n",
       "        0.00104672, 0.00104672, 0.00104672, 0.00104672, 0.00104672,\n",
       "        0.00104672, 0.00104672, 0.00104672, 0.00104672, 0.00104672,\n",
       "        0.00104672, 0.00104672, 0.00104672, 0.00104672, 0.00104672,\n",
       "        0.00104672, 0.00104672, 0.00104672, 0.00125364, 0.00174275,\n",
       "        0.00214536, 0.00282305, 0.00282305, 0.00235709, 0.00105496,\n",
       "        0.00104672, 0.00104672, 0.00104672, 0.00104672, 0.00104672,\n",
       "        0.00104672, 0.00104672, 0.00104672, 0.00104672, 0.00104672,\n",
       "        0.00104672, 0.00104672, 0.00104672, 0.00104672, 0.00104672,\n",
       "        0.00104672, 0.00104672, 0.00104672, 0.00104672, 0.0012197 ,\n",
       "        0.00187022, 0.00256947, 0.00282305, 0.00282305, 0.00282305,\n",
       "        0.00279003, 0.00213697, 0.00104672, 0.00104672, 0.00104672,\n",
       "        0.00104672, 0.00104672, 0.00104672, 0.00104672, 0.00104672,\n",
       "        0.00104672, 0.00104672, 0.00104672, 0.00104672, 0.00104672,\n",
       "        0.00104672, 0.00104672, 0.00104672, 0.00104672, 0.00104672,\n",
       "        0.00115002, 0.00163676, 0.00249011, 0.00282305, 0.00282305,\n",
       "        0.00282305, 0.00282305, 0.00230227, 0.00142126, 0.00104672,\n",
       "        0.00104672, 0.00104672, 0.00104672, 0.00104672, 0.00104672,\n",
       "        0.00104672, 0.00104672, 0.00104672, 0.00104672, 0.00104672,\n",
       "        0.00104672, 0.00104672, 0.00104672, 0.00104672, 0.00104672,\n",
       "        0.00104672, 0.00114552, 0.00135593, 0.00241321, 0.00282305,\n",
       "        0.00282305, 0.00282305, 0.00282305, 0.00227535, 0.00143808,\n",
       "        0.00105496, 0.00104672, 0.00104672, 0.00104672, 0.00104672,\n",
       "        0.00104672, 0.00104672, 0.00104672, 0.00104672, 0.00104672,\n",
       "        0.00104672, 0.00104672, 0.00104672, 0.00104672, 0.00104672,\n",
       "        0.00104672, 0.00104672, 0.00112328, 0.00204674, 0.00247066,\n",
       "        0.00282305, 0.00282305, 0.00282305, 0.00282305, 0.00224873,\n",
       "        0.00143245, 0.00108432, 0.00104672, 0.00104672, 0.00104672,\n",
       "        0.00104672, 0.00104672, 0.00104672, 0.00104672, 0.00104672,\n",
       "        0.00104672, 0.00104672, 0.00104672, 0.00104672, 0.00104672,\n",
       "        0.00104672, 0.00104672, 0.00104672, 0.00129868, 0.00205479,\n",
       "        0.00253942, 0.00282305, 0.00282305, 0.00282305, 0.00282305,\n",
       "        0.00272515, 0.00176338, 0.00109286, 0.00104672, 0.00104672,\n",
       "        0.00104672, 0.00104672, 0.00104672, 0.00104672, 0.00104672,\n",
       "        0.00104672, 0.00104672, 0.00104672, 0.00104672, 0.00104672,\n",
       "        0.00104672, 0.00104672, 0.00104672, 0.00104672, 0.00104672,\n",
       "        0.00104672, 0.00178424, 0.00282305, 0.00282305, 0.00282305,\n",
       "        0.00240376, 0.00177726, 0.00175647, 0.0011145 , 0.00104672,\n",
       "        0.00104672, 0.00104672, 0.00104672, 0.00104672, 0.00104672,\n",
       "        0.00104672, 0.00104672, 0.00104672, 0.00104672, 0.00104672,\n",
       "        0.00104672, 0.00104672, 0.00104672, 0.00104672, 0.00104672,\n",
       "        0.00104672, 0.00104672, 0.00104672, 0.00104672, 0.00104672,\n",
       "        0.00104672, 0.00104672, 0.00104672, 0.00104672, 0.00104672,\n",
       "        0.00104672, 0.00104672, 0.00104672, 0.00104672, 0.00104672,\n",
       "        0.00104672, 0.00104672, 0.00104672, 0.00104672, 0.00104672,\n",
       "        0.00104672, 0.00104672, 0.00104672, 0.00104672, 0.00104672,\n",
       "        0.00104672, 0.00104672, 0.00104672, 0.00104672, 0.00104672,\n",
       "        0.00104672, 0.00104672, 0.00104672, 0.00104672, 0.00104672,\n",
       "        0.00104672, 0.00104672, 0.00104672, 0.00104672, 0.00104672,\n",
       "        0.00104672, 0.00104672, 0.00104672, 0.00104672, 0.00104672,\n",
       "        0.00104672, 0.00104672, 0.00104672, 0.00104672, 0.00104672,\n",
       "        0.00104672, 0.00104672, 0.00104672, 0.00104672, 0.00104672,\n",
       "        0.00104672, 0.00104672, 0.00104672, 0.00104672, 0.00104672,\n",
       "        0.00104672, 0.00104672, 0.00104672, 0.00104672, 0.00104672,\n",
       "        0.00104672, 0.00104672, 0.00104672, 0.00104672, 0.00104672,\n",
       "        0.00104672, 0.00104672, 0.00104672, 0.00104672, 0.00104672,\n",
       "        0.00104672, 0.00104672, 0.00104672, 0.00104672, 0.00104672,\n",
       "        0.00104672, 0.00104672, 0.00104672, 0.00104672]], dtype=float32)"
      ]
     },
     "execution_count": 11,
     "metadata": {},
     "output_type": "execute_result"
    }
   ],
   "source": [
    "prob = tf.nn.softmax(logit).numpy()\n",
    "prob"
   ]
  },
  {
   "cell_type": "code",
   "execution_count": 12,
   "metadata": {
    "colab": {
     "base_uri": "https://localhost:8080/"
    },
    "executionInfo": {
     "elapsed": 232,
     "status": "ok",
     "timestamp": 1679580547359,
     "user": {
      "displayName": "Николай Собянин",
      "userId": "11497179690463303801"
     },
     "user_tz": -180
    },
    "id": "COsYTbYLyxgD",
    "outputId": "2d9ae764-4d9c-4bd1-a8a6-16c2e401fea4"
   },
   "outputs": [
    {
     "data": {
      "text/plain": [
       "(0.0028452803, 161, (1, 784))"
      ]
     },
     "execution_count": 12,
     "metadata": {},
     "output_type": "execute_result"
    }
   ],
   "source": [
    "prob.max(), prob.argmax(), prob.shape"
   ]
  },
  {
   "cell_type": "markdown",
   "metadata": {
    "id": "4KttF70KzjDB"
   },
   "source": [
    "# Loss"
   ]
  },
  {
   "cell_type": "code",
   "execution_count": 13,
   "metadata": {
    "executionInfo": {
     "elapsed": 235,
     "status": "ok",
     "timestamp": 1679580698517,
     "user": {
      "displayName": "Николай Собянин",
      "userId": "11497179690463303801"
     },
     "user_tz": -180
    },
    "id": "-Avm9MSuzKCH"
   },
   "outputs": [],
   "source": [
    "loss_fn = tf.losses.SparseCategoricalCrossentropy(from_logits=True)  # Кросс энтропия"
   ]
  },
  {
   "cell_type": "code",
   "execution_count": 14,
   "metadata": {
    "colab": {
     "base_uri": "https://localhost:8080/"
    },
    "executionInfo": {
     "elapsed": 5,
     "status": "ok",
     "timestamp": 1679580745417,
     "user": {
      "displayName": "Николай Собянин",
      "userId": "11497179690463303801"
     },
     "user_tz": -180
    },
    "id": "Rm7VXZ0Kz5SF",
    "outputId": "5375d0e3-46a8-49ff-9f1d-e265f5f0b099"
   },
   "outputs": [
    {
     "data": {
      "text/plain": [
       "6.862094"
      ]
     },
     "execution_count": 14,
     "metadata": {},
     "output_type": "execute_result"
    }
   ],
   "source": [
    "loss_fn(y_train[:1], logit).numpy()"
   ]
  },
  {
   "cell_type": "markdown",
   "metadata": {
    "id": "kN6Bqmnb0SZx"
   },
   "source": [
    "# Компиляция модели"
   ]
  },
  {
   "cell_type": "code",
   "execution_count": 15,
   "metadata": {
    "executionInfo": {
     "elapsed": 3,
     "status": "ok",
     "timestamp": 1679580928286,
     "user": {
      "displayName": "Николай Собянин",
      "userId": "11497179690463303801"
     },
     "user_tz": -180
    },
    "id": "Iq8apSRf0EnJ"
   },
   "outputs": [],
   "source": [
    "model.compile(\n",
    "    optimizer='adam',\n",
    "    loss=loss_fn,\n",
    "    metrics=['accuracy']\n",
    ")"
   ]
  },
  {
   "cell_type": "markdown",
   "metadata": {
    "id": "pb8ERLpY00K5"
   },
   "source": [
    "# Обучение модели"
   ]
  },
  {
   "cell_type": "code",
   "execution_count": 16,
   "metadata": {
    "colab": {
     "base_uri": "https://localhost:8080/"
    },
    "executionInfo": {
     "elapsed": 42361,
     "status": "ok",
     "timestamp": 1679581040848,
     "user": {
      "displayName": "Николай Собянин",
      "userId": "11497179690463303801"
     },
     "user_tz": -180
    },
    "id": "fDPXJ8iQ0qEd",
    "outputId": "f047560b-491f-4cea-9466-29deadf051e9"
   },
   "outputs": [
    {
     "name": "stdout",
     "output_type": "stream",
     "text": [
      "Epoch 1/5\n",
      "1875/1875 [==============================] - 2s 836us/step - loss: 6.8522 - accuracy: 0.0000e+00\n",
      "Epoch 2/5\n",
      "1875/1875 [==============================] - 2s 834us/step - loss: 6.8522 - accuracy: 0.0000e+00\n",
      "Epoch 3/5\n",
      "1875/1875 [==============================] - 2s 855us/step - loss: 6.8522 - accuracy: 0.0000e+00\n",
      "Epoch 4/5\n",
      "1875/1875 [==============================] - 2s 828us/step - loss: 6.8521 - accuracy: 0.0000e+00\n",
      "Epoch 5/5\n",
      "1875/1875 [==============================] - 2s 833us/step - loss: 6.8522 - accuracy: 0.0000e+00\n"
     ]
    },
    {
     "data": {
      "text/plain": [
       "<keras.callbacks.History at 0x212c12eaa00>"
      ]
     },
     "execution_count": 16,
     "metadata": {},
     "output_type": "execute_result"
    }
   ],
   "source": [
    "model.fit(X_train, y_train, epochs=5)"
   ]
  },
  {
   "cell_type": "markdown",
   "metadata": {
    "id": "vLayMC0b1OJO"
   },
   "source": [
    "# Оценка модели"
   ]
  },
  {
   "cell_type": "code",
   "execution_count": 17,
   "metadata": {
    "colab": {
     "base_uri": "https://localhost:8080/"
    },
    "executionInfo": {
     "elapsed": 972,
     "status": "ok",
     "timestamp": 1679581277068,
     "user": {
      "displayName": "Николай Собянин",
      "userId": "11497179690463303801"
     },
     "user_tz": -180
    },
    "id": "xz7DzA331CkO",
    "outputId": "d498367e-4c93-4657-ae75-a29b7f9013a4"
   },
   "outputs": [
    {
     "name": "stdout",
     "output_type": "stream",
     "text": [
      "313/313 - 0s - loss: 6.8548 - accuracy: 0.0000e+00 - 331ms/epoch - 1ms/step\n"
     ]
    },
    {
     "data": {
      "text/plain": [
       "[6.854820251464844, 0.0]"
      ]
     },
     "execution_count": 17,
     "metadata": {},
     "output_type": "execute_result"
    }
   ],
   "source": [
    "model.evaluate(X_test, y_test, verbose=2)"
   ]
  },
  {
   "cell_type": "code",
   "execution_count": 18,
   "metadata": {
    "executionInfo": {
     "elapsed": 2,
     "status": "ok",
     "timestamp": 1679581340405,
     "user": {
      "displayName": "Николай Собянин",
      "userId": "11497179690463303801"
     },
     "user_tz": -180
    },
    "id": "97WTNoXH2ByJ"
   },
   "outputs": [],
   "source": [
    "probability_model = tf.keras.Sequential([\n",
    "  model,\n",
    "  tf.keras.layers.Softmax()\n",
    "])"
   ]
  },
  {
   "cell_type": "code",
   "execution_count": 19,
   "metadata": {
    "colab": {
     "base_uri": "https://localhost:8080/"
    },
    "executionInfo": {
     "elapsed": 218,
     "status": "ok",
     "timestamp": 1679581552326,
     "user": {
      "displayName": "Николай Собянин",
      "userId": "11497179690463303801"
     },
     "user_tz": -180
    },
    "id": "eH5UKJA52V_C",
    "outputId": "9e456c48-a909-4c84-d351-7ee648b634fb"
   },
   "outputs": [
    {
     "data": {
      "text/plain": [
       "(5, 784)"
      ]
     },
     "execution_count": 19,
     "metadata": {},
     "output_type": "execute_result"
    }
   ],
   "source": [
    "prob = probability_model(X_test[:5]).numpy()\n",
    "prob.shape"
   ]
  },
  {
   "cell_type": "code",
   "execution_count": 20,
   "metadata": {
    "colab": {
     "base_uri": "https://localhost:8080/"
    },
    "executionInfo": {
     "elapsed": 229,
     "status": "ok",
     "timestamp": 1679581864358,
     "user": {
      "displayName": "Николай Собянин",
      "userId": "11497179690463303801"
     },
     "user_tz": -180
    },
    "id": "cPoMOSV84UBc",
    "outputId": "59855594-6ab0-4c6b-8fb3-dc40046b0bac"
   },
   "outputs": [
    {
     "data": {
      "text/plain": [
       "array([[0.00111459, 0.00111459, 0.00111459, ..., 0.00111459, 0.00111459,\n",
       "        0.00111459],\n",
       "       [0.00103648, 0.00103648, 0.00103648, ..., 0.00103648, 0.00103648,\n",
       "        0.00103648],\n",
       "       [0.00118523, 0.00118523, 0.00118523, ..., 0.00118523, 0.00118523,\n",
       "        0.00118523],\n",
       "       [0.00098011, 0.00098011, 0.00098011, ..., 0.00098011, 0.00098011,\n",
       "        0.00098011],\n",
       "       [0.0011092 , 0.0011092 , 0.0011092 , ..., 0.0011092 , 0.0011092 ,\n",
       "        0.0011092 ]], dtype=float32)"
      ]
     },
     "execution_count": 20,
     "metadata": {},
     "output_type": "execute_result"
    }
   ],
   "source": [
    "prob"
   ]
  },
  {
   "cell_type": "code",
   "execution_count": 21,
   "metadata": {
    "colab": {
     "base_uri": "https://localhost:8080/"
    },
    "executionInfo": {
     "elapsed": 243,
     "status": "ok",
     "timestamp": 1679581848129,
     "user": {
      "displayName": "Николай Собянин",
      "userId": "11497179690463303801"
     },
     "user_tz": -180
    },
    "id": "_ZRjmzJD2Zr6",
    "outputId": "b180ed85-695f-421d-fba6-f3318f5426f8"
   },
   "outputs": [
    {
     "data": {
      "text/plain": [
       "array([355,  97, 406, 262, 299], dtype=int64)"
      ]
     },
     "execution_count": 21,
     "metadata": {},
     "output_type": "execute_result"
    }
   ],
   "source": [
    "prob.argmax(axis=1)"
   ]
  }
 ],
 "metadata": {
  "colab": {
   "authorship_tag": "ABX9TyPCmTddej1aHQRy7LVB0PEA",
   "provenance": []
  },
  "kernelspec": {
   "display_name": "Python 3 (ipykernel)",
   "language": "python",
   "name": "python3"
  },
  "language_info": {
   "codemirror_mode": {
    "name": "ipython",
    "version": 3
   },
   "file_extension": ".py",
   "mimetype": "text/x-python",
   "name": "python",
   "nbconvert_exporter": "python",
   "pygments_lexer": "ipython3",
   "version": "3.9.16"
  }
 },
 "nbformat": 4,
 "nbformat_minor": 1
}
