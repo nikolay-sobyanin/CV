{
 "cells": [
  {
   "cell_type": "code",
   "execution_count": 1,
   "metadata": {
    "executionInfo": {
     "elapsed": 246,
     "status": "ok",
     "timestamp": 1679581926435,
     "user": {
      "displayName": "Николай Собянин",
      "userId": "11497179690463303801"
     },
     "user_tz": -180
    },
    "id": "VCtoDosmsx8a"
   },
   "outputs": [
    {
     "ename": "ModuleNotFoundError",
     "evalue": "No module named 'tensorflow'",
     "output_type": "error",
     "traceback": [
      "\u001b[1;31m---------------------------------------------------------------------------\u001b[0m",
      "\u001b[1;31mModuleNotFoundError\u001b[0m                       Traceback (most recent call last)",
      "\u001b[1;32m~\\AppData\\Local\\Temp\\ipykernel_3856\\320664066.py\u001b[0m in \u001b[0;36m<module>\u001b[1;34m\u001b[0m\n\u001b[1;32m----> 1\u001b[1;33m \u001b[1;32mimport\u001b[0m \u001b[0mtensorflow\u001b[0m \u001b[1;32mas\u001b[0m \u001b[0mtf\u001b[0m\u001b[1;33m\u001b[0m\u001b[1;33m\u001b[0m\u001b[0m\n\u001b[0m\u001b[0;32m      2\u001b[0m \u001b[1;32mimport\u001b[0m \u001b[0mnumpy\u001b[0m \u001b[1;32mas\u001b[0m \u001b[0mnp\u001b[0m\u001b[1;33m\u001b[0m\u001b[1;33m\u001b[0m\u001b[0m\n\u001b[0;32m      3\u001b[0m \u001b[1;32mimport\u001b[0m \u001b[0mmatplotlib\u001b[0m\u001b[1;33m.\u001b[0m\u001b[0mpyplot\u001b[0m \u001b[1;32mas\u001b[0m \u001b[0mplt\u001b[0m\u001b[1;33m\u001b[0m\u001b[1;33m\u001b[0m\u001b[0m\n",
      "\u001b[1;31mModuleNotFoundError\u001b[0m: No module named 'tensorflow'"
     ]
    }
   ],
   "source": [
    "import tensorflow as tf\n",
    "import numpy as np\n",
    "import matplotlib.pyplot as plt"
   ]
  },
  {
   "cell_type": "code",
   "execution_count": null,
   "metadata": {
    "colab": {
     "base_uri": "https://localhost:8080/"
    },
    "executionInfo": {
     "elapsed": 2,
     "status": "ok",
     "timestamp": 1679580467760,
     "user": {
      "displayName": "Николай Собянин",
      "userId": "11497179690463303801"
     },
     "user_tz": -180
    },
    "id": "fBqjbnKJs4ZO",
    "outputId": "11f1b265-a071-4ccc-99e8-dd71fb9f4ba5"
   },
   "outputs": [],
   "source": [
    "print('Version TensorFlow: ', tf.__version__)"
   ]
  },
  {
   "cell_type": "markdown",
   "metadata": {
    "id": "vhlPocaGuIxq"
   },
   "source": [
    "# Загрузка датасета"
   ]
  },
  {
   "cell_type": "code",
   "execution_count": null,
   "metadata": {
    "executionInfo": {
     "elapsed": 3,
     "status": "ok",
     "timestamp": 1679580467761,
     "user": {
      "displayName": "Николай Собянин",
      "userId": "11497179690463303801"
     },
     "user_tz": -180
    },
    "id": "yVAdtv30tCKl"
   },
   "outputs": [],
   "source": [
    "mnist = tf.keras.datasets.mnist"
   ]
  },
  {
   "cell_type": "code",
   "execution_count": null,
   "metadata": {
    "executionInfo": {
     "elapsed": 221,
     "status": "ok",
     "timestamp": 1679580467980,
     "user": {
      "displayName": "Николай Собянин",
      "userId": "11497179690463303801"
     },
     "user_tz": -180
    },
    "id": "lBAsurUVtPcr"
   },
   "outputs": [],
   "source": [
    "(X_train, y_train), (X_test, y_test) = mnist.load_data()"
   ]
  },
  {
   "cell_type": "code",
   "execution_count": null,
   "metadata": {
    "colab": {
     "base_uri": "https://localhost:8080/"
    },
    "executionInfo": {
     "elapsed": 3,
     "status": "ok",
     "timestamp": 1679580467980,
     "user": {
      "displayName": "Николай Собянин",
      "userId": "11497179690463303801"
     },
     "user_tz": -180
    },
    "id": "ik9K5BBRth3_",
    "outputId": "b3ed9a59-ac62-4a78-9b67-fcf7a4b47560"
   },
   "outputs": [],
   "source": [
    "X_train.shape, X_test.shape"
   ]
  },
  {
   "cell_type": "code",
   "execution_count": null,
   "metadata": {
    "colab": {
     "base_uri": "https://localhost:8080/",
     "height": 265
    },
    "executionInfo": {
     "elapsed": 239,
     "status": "ok",
     "timestamp": 1679582062354,
     "user": {
      "displayName": "Николай Собянин",
      "userId": "11497179690463303801"
     },
     "user_tz": -180
    },
    "id": "lquxJA8b4m6Z",
    "outputId": "97c71da4-77d0-4607-84e8-677a80da5121"
   },
   "outputs": [],
   "source": [
    "img = X_train[0]\n",
    "plt.imshow(img);"
   ]
  },
  {
   "cell_type": "markdown",
   "metadata": {
    "id": "xDDu9Zs0uOFQ"
   },
   "source": [
    "# Нормализация простейшая"
   ]
  },
  {
   "cell_type": "code",
   "execution_count": null,
   "metadata": {
    "executionInfo": {
     "elapsed": 3,
     "status": "ok",
     "timestamp": 1679580467981,
     "user": {
      "displayName": "Николай Собянин",
      "userId": "11497179690463303801"
     },
     "user_tz": -180
    },
    "id": "SIqzdLCQtmUF"
   },
   "outputs": [],
   "source": [
    "X_train, X_test = X_train / 255., X_test / 255."
   ]
  },
  {
   "cell_type": "markdown",
   "metadata": {
    "id": "NC7TQ8olyhTv"
   },
   "source": [
    "# Создание модели"
   ]
  },
  {
   "cell_type": "code",
   "execution_count": null,
   "metadata": {
    "executionInfo": {
     "elapsed": 284,
     "status": "ok",
     "timestamp": 1679580468262,
     "user": {
      "displayName": "Николай Собянин",
      "userId": "11497179690463303801"
     },
     "user_tz": -180
    },
    "id": "akSJXnizuex_"
   },
   "outputs": [],
   "source": [
    "model = tf.keras.Sequential([\n",
    "    tf.keras.layers.Flatten(input_shape=(28, 28)),  # Вытягиваем данные в одномерный массив output_shape = 28 * 28 = 784\n",
    "    tf.keras.layers.Dense(128, activation='relu'),  # Полносвязанный слой с 128 нейронами и активацией relu\n",
    "    tf.keras.layers.Dropout(0.2),  # Рандомно обнуляет выходы из слоя\n",
    "    tf.keras.layers.Dense(10)  # Выходной слой\n",
    "])"
   ]
  },
  {
   "cell_type": "code",
   "execution_count": null,
   "metadata": {
    "colab": {
     "base_uri": "https://localhost:8080/"
    },
    "executionInfo": {
     "elapsed": 7,
     "status": "ok",
     "timestamp": 1679580468263,
     "user": {
      "displayName": "Николай Собянин",
      "userId": "11497179690463303801"
     },
     "user_tz": -180
    },
    "id": "C_DF36-6xuZX",
    "outputId": "ac4bc738-e7ae-40d5-e9da-8c3b97dc0ff3"
   },
   "outputs": [],
   "source": [
    "X_train[:1].shape"
   ]
  },
  {
   "cell_type": "code",
   "execution_count": null,
   "metadata": {
    "colab": {
     "base_uri": "https://localhost:8080/"
    },
    "executionInfo": {
     "elapsed": 6,
     "status": "ok",
     "timestamp": 1679580468263,
     "user": {
      "displayName": "Николай Собянин",
      "userId": "11497179690463303801"
     },
     "user_tz": -180
    },
    "id": "pwr0CfbNxZp7",
    "outputId": "b80b9dcd-e5cf-43b5-a364-67ad4aa22336"
   },
   "outputs": [],
   "source": [
    "# logit для первой картинки\n",
    "logit = model(X_train[:1]).numpy()\n",
    "logit"
   ]
  },
  {
   "cell_type": "code",
   "execution_count": null,
   "metadata": {
    "colab": {
     "base_uri": "https://localhost:8080/"
    },
    "executionInfo": {
     "elapsed": 4,
     "status": "ok",
     "timestamp": 1679580468263,
     "user": {
      "displayName": "Николай Собянин",
      "userId": "11497179690463303801"
     },
     "user_tz": -180
    },
    "id": "XJYyMK4ExpE_",
    "outputId": "f7b196df-64fa-489a-cc03-f1cebaecd649"
   },
   "outputs": [],
   "source": [
    "prob = tf.nn.softmax(logit).numpy()\n",
    "prob"
   ]
  },
  {
   "cell_type": "code",
   "execution_count": null,
   "metadata": {
    "colab": {
     "base_uri": "https://localhost:8080/"
    },
    "executionInfo": {
     "elapsed": 232,
     "status": "ok",
     "timestamp": 1679580547359,
     "user": {
      "displayName": "Николай Собянин",
      "userId": "11497179690463303801"
     },
     "user_tz": -180
    },
    "id": "COsYTbYLyxgD",
    "outputId": "2d9ae764-4d9c-4bd1-a8a6-16c2e401fea4"
   },
   "outputs": [],
   "source": [
    "prob.max(), prob.argmax(), prob.shape"
   ]
  },
  {
   "cell_type": "markdown",
   "metadata": {
    "id": "4KttF70KzjDB"
   },
   "source": [
    "# Loss"
   ]
  },
  {
   "cell_type": "code",
   "execution_count": null,
   "metadata": {
    "executionInfo": {
     "elapsed": 235,
     "status": "ok",
     "timestamp": 1679580698517,
     "user": {
      "displayName": "Николай Собянин",
      "userId": "11497179690463303801"
     },
     "user_tz": -180
    },
    "id": "-Avm9MSuzKCH"
   },
   "outputs": [],
   "source": [
    "loss_fn = tf.losses.SparseCategoricalCrossentropy(from_logits=True)  # Кросс энтропия"
   ]
  },
  {
   "cell_type": "code",
   "execution_count": null,
   "metadata": {
    "colab": {
     "base_uri": "https://localhost:8080/"
    },
    "executionInfo": {
     "elapsed": 5,
     "status": "ok",
     "timestamp": 1679580745417,
     "user": {
      "displayName": "Николай Собянин",
      "userId": "11497179690463303801"
     },
     "user_tz": -180
    },
    "id": "Rm7VXZ0Kz5SF",
    "outputId": "5375d0e3-46a8-49ff-9f1d-e265f5f0b099"
   },
   "outputs": [],
   "source": [
    "loss_fn(y_train[:1], logit).numpy()"
   ]
  },
  {
   "cell_type": "markdown",
   "metadata": {
    "id": "kN6Bqmnb0SZx"
   },
   "source": [
    "# Компиляция модели"
   ]
  },
  {
   "cell_type": "code",
   "execution_count": null,
   "metadata": {
    "executionInfo": {
     "elapsed": 3,
     "status": "ok",
     "timestamp": 1679580928286,
     "user": {
      "displayName": "Николай Собянин",
      "userId": "11497179690463303801"
     },
     "user_tz": -180
    },
    "id": "Iq8apSRf0EnJ"
   },
   "outputs": [],
   "source": [
    "model.compile(\n",
    "    optimizer='adam',\n",
    "    loss=loss_fn,\n",
    "    metrics=['accuracy']\n",
    ")"
   ]
  },
  {
   "cell_type": "markdown",
   "metadata": {
    "id": "pb8ERLpY00K5"
   },
   "source": [
    "# Обучение модели"
   ]
  },
  {
   "cell_type": "code",
   "execution_count": null,
   "metadata": {
    "colab": {
     "base_uri": "https://localhost:8080/"
    },
    "executionInfo": {
     "elapsed": 42361,
     "status": "ok",
     "timestamp": 1679581040848,
     "user": {
      "displayName": "Николай Собянин",
      "userId": "11497179690463303801"
     },
     "user_tz": -180
    },
    "id": "fDPXJ8iQ0qEd",
    "outputId": "f047560b-491f-4cea-9466-29deadf051e9"
   },
   "outputs": [],
   "source": [
    "model.fit(X_train, y_train, epochs=5)"
   ]
  },
  {
   "cell_type": "markdown",
   "metadata": {
    "id": "vLayMC0b1OJO"
   },
   "source": [
    "# Оценка модели"
   ]
  },
  {
   "cell_type": "code",
   "execution_count": null,
   "metadata": {
    "colab": {
     "base_uri": "https://localhost:8080/"
    },
    "executionInfo": {
     "elapsed": 972,
     "status": "ok",
     "timestamp": 1679581277068,
     "user": {
      "displayName": "Николай Собянин",
      "userId": "11497179690463303801"
     },
     "user_tz": -180
    },
    "id": "xz7DzA331CkO",
    "outputId": "d498367e-4c93-4657-ae75-a29b7f9013a4"
   },
   "outputs": [],
   "source": [
    "model.evaluate(X_test, y_test, verbose=2)"
   ]
  },
  {
   "cell_type": "code",
   "execution_count": null,
   "metadata": {
    "executionInfo": {
     "elapsed": 2,
     "status": "ok",
     "timestamp": 1679581340405,
     "user": {
      "displayName": "Николай Собянин",
      "userId": "11497179690463303801"
     },
     "user_tz": -180
    },
    "id": "97WTNoXH2ByJ"
   },
   "outputs": [],
   "source": [
    "probability_model = tf.keras.Sequential([\n",
    "  model,\n",
    "  tf.keras.layers.Softmax()\n",
    "])"
   ]
  },
  {
   "cell_type": "code",
   "execution_count": null,
   "metadata": {
    "colab": {
     "base_uri": "https://localhost:8080/"
    },
    "executionInfo": {
     "elapsed": 218,
     "status": "ok",
     "timestamp": 1679581552326,
     "user": {
      "displayName": "Николай Собянин",
      "userId": "11497179690463303801"
     },
     "user_tz": -180
    },
    "id": "eH5UKJA52V_C",
    "outputId": "9e456c48-a909-4c84-d351-7ee648b634fb"
   },
   "outputs": [],
   "source": [
    "prob = probability_model(X_test[:5]).numpy()\n",
    "prob.shape"
   ]
  },
  {
   "cell_type": "code",
   "execution_count": null,
   "metadata": {
    "colab": {
     "base_uri": "https://localhost:8080/"
    },
    "executionInfo": {
     "elapsed": 229,
     "status": "ok",
     "timestamp": 1679581864358,
     "user": {
      "displayName": "Николай Собянин",
      "userId": "11497179690463303801"
     },
     "user_tz": -180
    },
    "id": "cPoMOSV84UBc",
    "outputId": "59855594-6ab0-4c6b-8fb3-dc40046b0bac"
   },
   "outputs": [],
   "source": [
    "prob"
   ]
  },
  {
   "cell_type": "code",
   "execution_count": null,
   "metadata": {
    "colab": {
     "base_uri": "https://localhost:8080/"
    },
    "executionInfo": {
     "elapsed": 243,
     "status": "ok",
     "timestamp": 1679581848129,
     "user": {
      "displayName": "Николай Собянин",
      "userId": "11497179690463303801"
     },
     "user_tz": -180
    },
    "id": "_ZRjmzJD2Zr6",
    "outputId": "b180ed85-695f-421d-fba6-f3318f5426f8"
   },
   "outputs": [],
   "source": [
    "prob.argmax(axis=1)"
   ]
  },
  {
   "cell_type": "code",
   "execution_count": null,
   "metadata": {
    "id": "1-umI7fh3bk-"
   },
   "outputs": [],
   "source": []
  }
 ],
 "metadata": {
  "colab": {
   "authorship_tag": "ABX9TyPCmTddej1aHQRy7LVB0PEA",
   "provenance": []
  },
  "kernelspec": {
   "display_name": "Python 3 (ipykernel)",
   "language": "python",
   "name": "python3"
  },
  "language_info": {
   "codemirror_mode": {
    "name": "ipython",
    "version": 3
   },
   "file_extension": ".py",
   "mimetype": "text/x-python",
   "name": "python",
   "nbconvert_exporter": "python",
   "pygments_lexer": "ipython3",
   "version": "3.9.13"
  }
 },
 "nbformat": 4,
 "nbformat_minor": 1
}
