{
 "cells": [
  {
   "cell_type": "code",
   "execution_count": 1,
   "metadata": {
    "executionInfo": {
     "elapsed": 4,
     "status": "ok",
     "timestamp": 1679655193083,
     "user": {
      "displayName": "Николай Собянин",
      "userId": "11497179690463303801"
     },
     "user_tz": -180
    },
    "id": "k1BnGpj0PoyU"
   },
   "outputs": [],
   "source": [
    "import tensorflow as tf\n",
    "\n",
    "import numpy as np\n",
    "import matplotlib.pyplot as plt"
   ]
  },
  {
   "cell_type": "code",
   "execution_count": 2,
   "metadata": {
    "colab": {
     "base_uri": "https://localhost:8080/",
     "height": 36
    },
    "executionInfo": {
     "elapsed": 6,
     "status": "ok",
     "timestamp": 1679655247179,
     "user": {
      "displayName": "Николай Собянин",
      "userId": "11497179690463303801"
     },
     "user_tz": -180
    },
    "id": "T6rxN5i6P7BZ",
    "outputId": "9cfda815-d88e-4e83-b0f8-141913612721"
   },
   "outputs": [
    {
     "data": {
      "text/plain": [
       "'2.10.0'"
      ]
     },
     "execution_count": 2,
     "metadata": {},
     "output_type": "execute_result"
    }
   ],
   "source": [
    "tf.__version__"
   ]
  },
  {
   "cell_type": "markdown",
   "metadata": {
    "id": "uxmpbtomQRck"
   },
   "source": [
    "# Download dataset"
   ]
  },
  {
   "cell_type": "code",
   "execution_count": 3,
   "metadata": {
    "colab": {
     "base_uri": "https://localhost:8080/"
    },
    "executionInfo": {
     "elapsed": 791,
     "status": "ok",
     "timestamp": 1679655532436,
     "user": {
      "displayName": "Николай Собянин",
      "userId": "11497179690463303801"
     },
     "user_tz": -180
    },
    "id": "zxRvasL0Q2HH",
    "outputId": "639dc22d-84bc-4309-fc6e-45722a8df5db"
   },
   "outputs": [],
   "source": [
    "fashion_mnist = tf.keras.datasets.fashion_mnist\n",
    "\n",
    "(x_train, y_train), (x_test, y_test) = fashion_mnist.load_data()"
   ]
  },
  {
   "cell_type": "code",
   "execution_count": 4,
   "metadata": {
    "executionInfo": {
     "elapsed": 2,
     "status": "ok",
     "timestamp": 1679655578636,
     "user": {
      "displayName": "Николай Собянин",
      "userId": "11497179690463303801"
     },
     "user_tz": -180
    },
    "id": "JyeoNU-kRXAi"
   },
   "outputs": [],
   "source": [
    "class_names = ['T-shirt/top', 'Trouser', 'Pullover', 'Dress', 'Coat', 'Sandal', 'Shirt', 'Sneaker', 'Bag', 'Ankle boot']"
   ]
  },
  {
   "cell_type": "code",
   "execution_count": 5,
   "metadata": {
    "colab": {
     "base_uri": "https://localhost:8080/"
    },
    "executionInfo": {
     "elapsed": 5,
     "status": "ok",
     "timestamp": 1679655608545,
     "user": {
      "displayName": "Николай Собянин",
      "userId": "11497179690463303801"
     },
     "user_tz": -180
    },
    "id": "Eapwt4niRil0",
    "outputId": "f5f67217-f6e3-40a9-b337-68b6e3ff5ab7"
   },
   "outputs": [
    {
     "data": {
      "text/plain": [
       "((60000, 28, 28), (60000,))"
      ]
     },
     "execution_count": 5,
     "metadata": {},
     "output_type": "execute_result"
    }
   ],
   "source": [
    "x_train.shape, y_train.shape"
   ]
  },
  {
   "cell_type": "code",
   "execution_count": 6,
   "metadata": {
    "colab": {
     "base_uri": "https://localhost:8080/"
    },
    "executionInfo": {
     "elapsed": 2,
     "status": "ok",
     "timestamp": 1679655627117,
     "user": {
      "displayName": "Николай Собянин",
      "userId": "11497179690463303801"
     },
     "user_tz": -180
    },
    "id": "NlSZV_-gRkwH",
    "outputId": "538b7d3a-d210-4e4a-d2e4-ef65926a4d8a"
   },
   "outputs": [
    {
     "data": {
      "text/plain": [
       "((10000, 28, 28), (10000,))"
      ]
     },
     "execution_count": 6,
     "metadata": {},
     "output_type": "execute_result"
    }
   ],
   "source": [
    "x_test.shape, y_test.shape"
   ]
  },
  {
   "cell_type": "markdown",
   "metadata": {
    "id": "TLtY8j51RuJ3"
   },
   "source": [
    "# Preparing data"
   ]
  },
  {
   "cell_type": "code",
   "execution_count": 7,
   "metadata": {
    "colab": {
     "base_uri": "https://localhost:8080/",
     "height": 313
    },
    "executionInfo": {
     "elapsed": 1607,
     "status": "ok",
     "timestamp": 1679656081752,
     "user": {
      "displayName": "Николай Собянин",
      "userId": "11497179690463303801"
     },
     "user_tz": -180
    },
    "id": "3nhTyu-WR7vB",
    "outputId": "67b3a3a6-8bf1-4d84-b267-418ac0626317"
   },
   "outputs": [],
   "source": [
    "# plt.figure(figsize=(5, 5))\n",
    "# plt.imshow(x_train[10])\n",
    "# plt.colorbar()\n",
    "# plt.grid(False)\n",
    "# plt.show()"
   ]
  },
  {
   "cell_type": "code",
   "execution_count": 8,
   "metadata": {
    "executionInfo": {
     "elapsed": 1325,
     "status": "ok",
     "timestamp": 1679655847085,
     "user": {
      "displayName": "Николай Собянин",
      "userId": "11497179690463303801"
     },
     "user_tz": -180
    },
    "id": "S0gWZBV5SRFD"
   },
   "outputs": [],
   "source": [
    "x_train = x_train / 255.\n",
    "x_test = x_test / 255."
   ]
  },
  {
   "cell_type": "code",
   "execution_count": 9,
   "metadata": {
    "colab": {
     "base_uri": "https://localhost:8080/",
     "height": 661
    },
    "executionInfo": {
     "elapsed": 2300,
     "status": "ok",
     "timestamp": 1679656367371,
     "user": {
      "displayName": "Николай Собянин",
      "userId": "11497179690463303801"
     },
     "user_tz": -180
    },
    "id": "zlAgi9eqSj4c",
    "outputId": "d015a841-82aa-4a7c-cad0-191a08342dd6"
   },
   "outputs": [],
   "source": [
    "# fig = plt.figure(figsize=(10, 10))\n",
    "# fig.suptitle('Clothes', fontsize=20)\n",
    "# for i in range(25):\n",
    "#   plt.subplot(5, 5, i+1)\n",
    "#   plt.xticks([])\n",
    "#   plt.yticks([])\n",
    "#   plt.grid(False)\n",
    "#   plt.imshow(x_train[i], cmap=plt.cm.binary)\n",
    "#   plt.xlabel(class_names[y_train[i]])\n",
    "# plt.show()"
   ]
  },
  {
   "cell_type": "markdown",
   "metadata": {
    "id": "BxwHv6vcTW2m"
   },
   "source": [
    "# Create Model"
   ]
  },
  {
   "cell_type": "code",
   "execution_count": 10,
   "metadata": {
    "executionInfo": {
     "elapsed": 623,
     "status": "ok",
     "timestamp": 1679656438745,
     "user": {
      "displayName": "Николай Собянин",
      "userId": "11497179690463303801"
     },
     "user_tz": -180
    },
    "id": "uV4uMDhAUlye"
   },
   "outputs": [],
   "source": [
    "model = tf.keras.Sequential([\n",
    "    tf.keras.layers.Flatten(input_shape=(28, 28)),\n",
    "    tf.keras.layers.Dense(128, activation='relu'),\n",
    "    tf.keras.layers.Dense(10)\n",
    "])"
   ]
  },
  {
   "cell_type": "code",
   "execution_count": 11,
   "metadata": {
    "executionInfo": {
     "elapsed": 4,
     "status": "ok",
     "timestamp": 1679656457018,
     "user": {
      "displayName": "Николай Собянин",
      "userId": "11497179690463303801"
     },
     "user_tz": -180
    },
    "id": "RlJDdgItU0eq"
   },
   "outputs": [],
   "source": [
    "model.compile(optimizer='adam',\n",
    "              loss=tf.keras.losses.SparseCategoricalCrossentropy(from_logits=True),\n",
    "              metrics=['accuracy'])"
   ]
  },
  {
   "cell_type": "code",
   "execution_count": 12,
   "metadata": {
    "colab": {
     "base_uri": "https://localhost:8080/"
    },
    "executionInfo": {
     "elapsed": 84009,
     "status": "ok",
     "timestamp": 1679656584177,
     "user": {
      "displayName": "Николай Собянин",
      "userId": "11497179690463303801"
     },
     "user_tz": -180
    },
    "id": "66cEaczWU4_Y",
    "outputId": "8f3cab73-12c4-4740-d4d3-aa0e8dc7e19c"
   },
   "outputs": [
    {
     "name": "stdout",
     "output_type": "stream",
     "text": [
      "Epoch 1/10\n",
      "1875/1875 [==============================] - 2s 1ms/step - loss: 0.5036 - accuracy: 0.8231\n",
      "Epoch 2/10\n",
      "1875/1875 [==============================] - 2s 1ms/step - loss: 0.3796 - accuracy: 0.8631\n",
      "Epoch 3/10\n",
      "1875/1875 [==============================] - 2s 1ms/step - loss: 0.3399 - accuracy: 0.8755\n",
      "Epoch 4/10\n",
      "1875/1875 [==============================] - 2s 1ms/step - loss: 0.3150 - accuracy: 0.8844\n",
      "Epoch 5/10\n",
      "1875/1875 [==============================] - 2s 1ms/step - loss: 0.2980 - accuracy: 0.8896\n",
      "Epoch 6/10\n",
      "1875/1875 [==============================] - 2s 1ms/step - loss: 0.2826 - accuracy: 0.8949\n",
      "Epoch 7/10\n",
      "1875/1875 [==============================] - 2s 1ms/step - loss: 0.2713 - accuracy: 0.8986\n",
      "Epoch 8/10\n",
      "1875/1875 [==============================] - 2s 1ms/step - loss: 0.2615 - accuracy: 0.9025\n",
      "Epoch 9/10\n",
      "1875/1875 [==============================] - 2s 1ms/step - loss: 0.2491 - accuracy: 0.9079\n",
      "Epoch 10/10\n",
      "1875/1875 [==============================] - 2s 1ms/step - loss: 0.2426 - accuracy: 0.9091\n"
     ]
    },
    {
     "data": {
      "text/plain": [
       "<keras.callbacks.History at 0x2d6ee89b730>"
      ]
     },
     "execution_count": 12,
     "metadata": {},
     "output_type": "execute_result"
    }
   ],
   "source": [
    "model.fit(x_train, y_train, epochs=10)"
   ]
  },
  {
   "cell_type": "markdown",
   "metadata": {
    "id": "lMmwGkGzVDaj"
   },
   "source": [
    "# Evaluate model"
   ]
  },
  {
   "cell_type": "code",
   "execution_count": 13,
   "metadata": {
    "colab": {
     "base_uri": "https://localhost:8080/"
    },
    "executionInfo": {
     "elapsed": 975,
     "status": "ok",
     "timestamp": 1679656630643,
     "user": {
      "displayName": "Николай Собянин",
      "userId": "11497179690463303801"
     },
     "user_tz": -180
    },
    "id": "XY1gxOF8VcTw",
    "outputId": "acdb1371-94de-4b44-8551-74b48a5c31ef"
   },
   "outputs": [
    {
     "name": "stdout",
     "output_type": "stream",
     "text": [
      "313/313 - 0s - loss: 0.3452 - accuracy: 0.8788 - 398ms/epoch - 1ms/step\n",
      "\n",
      "Test accuracy: 0.8787999749183655\n"
     ]
    }
   ],
   "source": [
    "test_loss, test_acc = model.evaluate(x_test,  y_test, verbose=2)\n",
    "\n",
    "print('\\nTest accuracy:', test_acc)"
   ]
  },
  {
   "cell_type": "markdown",
   "metadata": {
    "id": "LUq0Zt1dVjEZ"
   },
   "source": [
    "# Prediction"
   ]
  },
  {
   "cell_type": "code",
   "execution_count": 14,
   "metadata": {
    "executionInfo": {
     "elapsed": 218,
     "status": "ok",
     "timestamp": 1679656677697,
     "user": {
      "displayName": "Николай Собянин",
      "userId": "11497179690463303801"
     },
     "user_tz": -180
    },
    "id": "0oOdeSs5VqQQ"
   },
   "outputs": [],
   "source": [
    "probability_model = tf.keras.Sequential([model, \n",
    "                                         tf.keras.layers.Softmax()])"
   ]
  },
  {
   "cell_type": "code",
   "execution_count": 15,
   "metadata": {
    "colab": {
     "base_uri": "https://localhost:8080/"
    },
    "executionInfo": {
     "elapsed": 1424,
     "status": "ok",
     "timestamp": 1679656698521,
     "user": {
      "displayName": "Николай Собянин",
      "userId": "11497179690463303801"
     },
     "user_tz": -180
    },
    "id": "HG7pWpoPVu7b",
    "outputId": "a36c0068-714f-4461-ea5d-457f8f05182b"
   },
   "outputs": [
    {
     "name": "stdout",
     "output_type": "stream",
     "text": [
      "313/313 [==============================] - 0s 772us/step\n"
     ]
    }
   ],
   "source": [
    "predictions = probability_model.predict(x_test)"
   ]
  },
  {
   "cell_type": "code",
   "execution_count": 16,
   "metadata": {
    "colab": {
     "base_uri": "https://localhost:8080/"
    },
    "executionInfo": {
     "elapsed": 2,
     "status": "ok",
     "timestamp": 1679656711555,
     "user": {
      "displayName": "Николай Собянин",
      "userId": "11497179690463303801"
     },
     "user_tz": -180
    },
    "id": "qi873_AqVztV",
    "outputId": "bcdbf124-c00e-4b00-9979-891716ec3cd8"
   },
   "outputs": [
    {
     "data": {
      "text/plain": [
       "array([1.3593671e-09, 5.9176991e-12, 1.2738974e-10, 8.4173094e-12,\n",
       "       4.5501550e-11, 1.2893677e-03, 2.1753304e-09, 3.6510697e-04,\n",
       "       5.4371285e-10, 9.9834549e-01], dtype=float32)"
      ]
     },
     "execution_count": 16,
     "metadata": {},
     "output_type": "execute_result"
    }
   ],
   "source": [
    "predictions[0]"
   ]
  },
  {
   "cell_type": "code",
   "execution_count": 17,
   "metadata": {
    "colab": {
     "base_uri": "https://localhost:8080/"
    },
    "executionInfo": {
     "elapsed": 3,
     "status": "ok",
     "timestamp": 1679656720631,
     "user": {
      "displayName": "Николай Собянин",
      "userId": "11497179690463303801"
     },
     "user_tz": -180
    },
    "id": "WQXLosriV3G_",
    "outputId": "b8b2e96e-27b3-49b6-db1c-cc1453978c92"
   },
   "outputs": [
    {
     "data": {
      "text/plain": [
       "9"
      ]
     },
     "execution_count": 17,
     "metadata": {},
     "output_type": "execute_result"
    }
   ],
   "source": [
    "np.argmax(predictions[0])"
   ]
  },
  {
   "cell_type": "code",
   "execution_count": 18,
   "metadata": {
    "colab": {
     "base_uri": "https://localhost:8080/"
    },
    "executionInfo": {
     "elapsed": 267,
     "status": "ok",
     "timestamp": 1679656745054,
     "user": {
      "displayName": "Николай Собянин",
      "userId": "11497179690463303801"
     },
     "user_tz": -180
    },
    "id": "01vGAtG2V5MH",
    "outputId": "60a963af-162f-4641-8e61-624871b58bf6"
   },
   "outputs": [
    {
     "data": {
      "text/plain": [
       "9"
      ]
     },
     "execution_count": 18,
     "metadata": {},
     "output_type": "execute_result"
    }
   ],
   "source": [
    "y_test[0]"
   ]
  },
  {
   "cell_type": "code",
   "execution_count": 19,
   "metadata": {
    "executionInfo": {
     "elapsed": 1127,
     "status": "ok",
     "timestamp": 1679656819444,
     "user": {
      "displayName": "Николай Собянин",
      "userId": "11497179690463303801"
     },
     "user_tz": -180
    },
    "id": "hQ_zPb4FV_Gb"
   },
   "outputs": [],
   "source": [
    "def plot_image(i, predictions_array, true_label, img):\n",
    "  true_label, img = true_label[i], img[i]\n",
    "  plt.grid(False)\n",
    "  plt.xticks([])\n",
    "  plt.yticks([])\n",
    "\n",
    "  plt.imshow(img, cmap=plt.cm.binary)\n",
    "\n",
    "  predicted_label = np.argmax(predictions_array)\n",
    "  if predicted_label == true_label:\n",
    "    color = 'blue'\n",
    "  else:\n",
    "    color = 'red'\n",
    "\n",
    "  plt.xlabel(\"{} {:2.0f}% ({})\".format(class_names[predicted_label],\n",
    "                                100*np.max(predictions_array),\n",
    "                                class_names[true_label]),\n",
    "                                color=color)\n",
    "\n",
    "def plot_value_array(i, predictions_array, true_label):\n",
    "  true_label = true_label[i]\n",
    "  plt.grid(False)\n",
    "  plt.xticks(range(10))\n",
    "  plt.yticks([])\n",
    "  thisplot = plt.bar(range(10), predictions_array, color=\"#777777\")\n",
    "  plt.ylim([0, 1])\n",
    "  predicted_label = np.argmax(predictions_array)\n",
    "\n",
    "  thisplot[predicted_label].set_color('red')\n",
    "  thisplot[true_label].set_color('blue')"
   ]
  },
  {
   "cell_type": "code",
   "execution_count": 20,
   "metadata": {
    "colab": {
     "base_uri": "https://localhost:8080/",
     "height": 729
    },
    "executionInfo": {
     "elapsed": 2198,
     "status": "ok",
     "timestamp": 1679657009431,
     "user": {
      "displayName": "Николай Собянин",
      "userId": "11497179690463303801"
     },
     "user_tz": -180
    },
    "id": "_9ramZbYWRRB",
    "outputId": "8918e1a1-6bcb-4bd9-e401-72d798739be7"
   },
   "outputs": [
    {
     "data": {
      "image/png": "[encoded data removed]",
      "text/plain": [
       "<Figure size 1200x1000 with 30 Axes>"
      ]
     },
     "metadata": {},
     "output_type": "display_data"
    }
   ],
   "source": [
    "num_rows = 5\n",
    "num_cols = 3\n",
    "num_images = num_rows*num_cols\n",
    "plt.figure(figsize=(2*2*num_cols, 2*num_rows))\n",
    "for i in range(num_images):\n",
    "  plt.subplot(num_rows, 2*num_cols, 2*i+1)\n",
    "  plot_image(i, predictions[i], y_test, x_test)\n",
    "  plt.subplot(num_rows, 2*num_cols, 2*i+2)\n",
    "  plot_value_array(i, predictions[i], y_test)\n",
    "plt.tight_layout()\n",
    "plt.show()"
   ]
  },
  {
   "cell_type": "markdown",
   "metadata": {
    "id": "fWKpC3SAWTFj"
   },
   "source": [
    "# Use model"
   ]
  },
  {
   "cell_type": "code",
   "execution_count": 21,
   "metadata": {
    "colab": {
     "base_uri": "https://localhost:8080/"
    },
    "executionInfo": {
     "elapsed": 4,
     "status": "ok",
     "timestamp": 1679657128082,
     "user": {
      "displayName": "Николай Собянин",
      "userId": "11497179690463303801"
     },
     "user_tz": -180
    },
    "id": "b8_7yznlXSr_",
    "outputId": "ee53c751-e41b-4695-ff4d-9f4d5b815692"
   },
   "outputs": [
    {
     "name": "stdout",
     "output_type": "stream",
     "text": [
      "(28, 28)\n"
     ]
    }
   ],
   "source": [
    "img = x_test[1]\n",
    "\n",
    "print(img.shape)"
   ]
  },
  {
   "cell_type": "code",
   "execution_count": 22,
   "metadata": {
    "colab": {
     "base_uri": "https://localhost:8080/"
    },
    "executionInfo": {
     "elapsed": 238,
     "status": "ok",
     "timestamp": 1679657148828,
     "user": {
      "displayName": "Николай Собянин",
      "userId": "11497179690463303801"
     },
     "user_tz": -180
    },
    "id": "3klRxrLsXclO",
    "outputId": "07a2a52f-5bab-402d-bd60-112cbf14cea6"
   },
   "outputs": [
    {
     "name": "stdout",
     "output_type": "stream",
     "text": [
      "(1, 28, 28)\n"
     ]
    }
   ],
   "source": [
    "img = (np.expand_dims(img,0))\n",
    "\n",
    "print(img.shape)"
   ]
  },
  {
   "cell_type": "code",
   "execution_count": 23,
   "metadata": {
    "colab": {
     "base_uri": "https://localhost:8080/"
    },
    "executionInfo": {
     "elapsed": 224,
     "status": "ok",
     "timestamp": 1679657160425,
     "user": {
      "displayName": "Николай Собянин",
      "userId": "11497179690463303801"
     },
     "user_tz": -180
    },
    "id": "F3e7kgomXh3u",
    "outputId": "22ab4a0f-1bd1-49d6-cb24-1a77eb6381f9"
   },
   "outputs": [
    {
     "name": "stdout",
     "output_type": "stream",
     "text": [
      "1/1 [==============================] - 0s 18ms/step\n",
      "[[2.8327162e-05 3.4689032e-14 9.9935621e-01 6.9815775e-10 4.7917335e-04\n",
      "  1.5500944e-10 1.3631742e-04 6.7245803e-16 8.3810328e-12 1.2811328e-18]]\n"
     ]
    }
   ],
   "source": [
    "predictions_single = probability_model.predict(img)\n",
    "\n",
    "print(predictions_single)"
   ]
  },
  {
   "cell_type": "code",
   "execution_count": 24,
   "metadata": {
    "colab": {
     "base_uri": "https://localhost:8080/",
     "height": 300
    },
    "executionInfo": {
     "elapsed": 567,
     "status": "ok",
     "timestamp": 1679657190410,
     "user": {
      "displayName": "Николай Собянин",
      "userId": "11497179690463303801"
     },
     "user_tz": -180
    },
    "id": "Tmq0Tdc1Xkni",
    "outputId": "5ed3be34-13bd-42a5-946f-b4bd9b9fd176"
   },
   "outputs": [
    {
     "data": {
      "image/png": "[encoded data removed]",
      "text/plain": [
       "<Figure size 640x480 with 1 Axes>"
      ]
     },
     "metadata": {},
     "output_type": "display_data"
    }
   ],
   "source": [
    "plot_value_array(1, predictions_single[0], y_test)\n",
    "_ = plt.xticks(range(10), class_names, rotation=45)\n",
    "plt.show()"
   ]
  },
  {
   "cell_type": "code",
   "execution_count": 25,
   "metadata": {
    "colab": {
     "base_uri": "https://localhost:8080/"
    },
    "executionInfo": {
     "elapsed": 5,
     "status": "ok",
     "timestamp": 1679657224198,
     "user": {
      "displayName": "Николай Собянин",
      "userId": "11497179690463303801"
     },
     "user_tz": -180
    },
    "id": "jxTIO7awXruQ",
    "outputId": "8a00aaa7-c1c3-4262-e2ab-03a629d1b86d"
   },
   "outputs": [
    {
     "data": {
      "text/plain": [
       "2"
      ]
     },
     "execution_count": 25,
     "metadata": {},
     "output_type": "execute_result"
    }
   ],
   "source": [
    "np.argmax(predictions_single[0])"
   ]
  }
 ],
 "metadata": {
  "colab": {
   "authorship_tag": "ABX9TyPsXr9HnqsgTwQhlby/PMkC",
   "provenance": []
  },
  "kernelspec": {
   "display_name": "Python 3 (ipykernel)",
   "language": "python",
   "name": "python3"
  },
  "language_info": {
   "codemirror_mode": {
    "name": "ipython",
    "version": 3
   },
   "file_extension": ".py",
   "mimetype": "text/x-python",
   "name": "python",
   "nbconvert_exporter": "python",
   "pygments_lexer": "ipython3",
   "version": "3.9.16"
  }
 },
 "nbformat": 4,
 "nbformat_minor": 1
}
